{
 "cells": [
  {
   "cell_type": "markdown",
   "id": "0ec9ed52-2369-4113-ae93-01071c7e42a7",
   "metadata": {},
   "source": [
    "# Using a List:\n",
    "1. from End - Adding and Removing - O(1)\n",
    "2. from Start - Adding and Removing - O(n)"
   ]
  },
  {
   "cell_type": "code",
   "execution_count": null,
   "id": "bc81a6f9-4246-43e3-9c02-95b9430bfd94",
   "metadata": {},
   "outputs": [],
   "source": []
  },
  {
   "cell_type": "markdown",
   "id": "d9a1ad90-1f52-45d5-b4c9-cba4938cd799",
   "metadata": {},
   "source": [
    "# Using LinkedList\n",
    "1. from End - Adding O(1) and Removing - O(n)\n",
    "2. from Start - Adding O(1) and Removing - O(1)"
   ]
  },
  {
   "cell_type": "code",
   "execution_count": null,
   "id": "5025beee-d5d7-4b46-9e33-265439302c66",
   "metadata": {},
   "outputs": [],
   "source": [
    "class Node:\n",
    "    def __init__(self, value):\n",
    "        self.value = value\n",
    "        self.next = None"
   ]
  },
  {
   "cell_type": "code",
   "execution_count": null,
   "id": "cd9050b2-9ae8-4f4e-b8bc-89e2fdcc5f02",
   "metadata": {},
   "outputs": [],
   "source": [
    "class Queue:\n",
    "    def __init__(self, value):\n",
    "        new_node = Node(value)\n",
    "        self.first = new_node\n",
    "        self.last = new_node\n",
    "        self.length = 1\n",
    "\n",
    "    def print_queue(self):\n",
    "        if self.length == 0:\n",
    "            return None\n",
    "        else:\n",
    "            temp = self.first\n",
    "            while temp.next:\n",
    "                temp = temp.next\n",
    "                print(temp.value)\n",
    "    def enqueue(self, value):\n",
    "        new_node = Node(value)\n",
    "        if self.length == 0:\n",
    "            self.first = new_node\n",
    "            self.last = new_node\n",
    "        else:\n",
    "            self.last.next = new_node\n",
    "            self.last = new_node\n",
    "        self.length += 1\n",
    "\n",
    "    def dequeue(self):\n",
    "        if self.length == 0:\n",
    "            return None\n",
    "        temp = self.first\n",
    "        if slef.length == 1:\n",
    "            self.first = None\n",
    "            self.last = None\n",
    "        else:\n",
    "            self.first = temp.next\n",
    "            temp.next = None\n",
    "        self.length -= 1\n",
    "        return temp.value"
   ]
  },
  {
   "cell_type": "markdown",
   "id": "30a22296-562d-4eb5-a6ae-890b144ce26f",
   "metadata": {},
   "source": [
    "# deque from Collections"
   ]
  },
  {
   "cell_type": "code",
   "execution_count": null,
   "id": "6525dac8-7639-44d0-bc73-bd1978519223",
   "metadata": {},
   "outputs": [],
   "source": []
  }
 ],
 "metadata": {
  "kernelspec": {
   "display_name": "Python 3 (ipykernel)",
   "language": "python",
   "name": "python3"
  },
  "language_info": {
   "codemirror_mode": {
    "name": "ipython",
    "version": 3
   },
   "file_extension": ".py",
   "mimetype": "text/x-python",
   "name": "python",
   "nbconvert_exporter": "python",
   "pygments_lexer": "ipython3",
   "version": "3.13.5"
  }
 },
 "nbformat": 4,
 "nbformat_minor": 5
}
