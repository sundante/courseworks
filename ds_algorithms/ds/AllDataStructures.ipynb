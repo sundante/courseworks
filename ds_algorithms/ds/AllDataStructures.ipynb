{
 "cells": [
  {
   "cell_type": "markdown",
   "id": "42f94eae-f8da-4e67-9e22-38f4ab81a35b",
   "metadata": {
    "jp-MarkdownHeadingCollapsed": true
   },
   "source": [
    "# Python Data Types"
   ]
  },
  {
   "cell_type": "markdown",
   "id": "94b28188-6222-4bcd-ac00-86cf92b8e1c3",
   "metadata": {
    "jp-MarkdownHeadingCollapsed": true
   },
   "source": [
    "> Numeric Types:\n",
    "* int\n",
    "* float\n",
    "* complex\n",
    "\n",
    "> Boolean Type:\n",
    "* bool\n",
    "\n",
    "> Iterator Types:\n",
    "\n",
    "> Sequence Types:\n",
    "* list\n",
    "* tuple\n",
    "* range\n",
    "\n",
    "> Set Types:\n",
    "* set\n",
    "* frozenset\n",
    "\n",
    "> Mapping Types:\n",
    "* dictionary\n",
    "\n",
    "> Collections:\n",
    "* ChainMap\n",
    "* Counter\n",
    "* OrderedDict\n",
    "* UserDict\n",
    "* UserList\n",
    "* UserString\n",
    "* defaultdict\n",
    "* deque\n",
    "* namedtuple"
   ]
  },
  {
   "cell_type": "markdown",
   "id": "5dbbb3ed-0706-49ec-ac2f-bd60b1c822db",
   "metadata": {
    "jp-MarkdownHeadingCollapsed": true
   },
   "source": [
    "# Iterable"
   ]
  },
  {
   "cell_type": "markdown",
   "id": "d65411dc-bf1d-4942-8b8c-5ee4525ed540",
   "metadata": {},
   "source": [
    "* An object capable of returning its members one at a time.\n",
    "* all sequence types (such as list, str, and tuple)\n",
    "* some non-sequence types like dict, file objects\n",
    "* objects of any classes you define with an __iter__() method or with a __getitem__() method that implements sequence semantics.\n",
    "* Iterables can be used in a for loop and in many other places where a sequence is needed (zip(), map(), …)."
   ]
  },
  {
   "cell_type": "markdown",
   "id": "575e1094-4ea7-4535-a09e-8baee954a687",
   "metadata": {
    "jp-MarkdownHeadingCollapsed": true
   },
   "source": [
    "# Iterator"
   ]
  },
  {
   "cell_type": "markdown",
   "id": "ad415a9b-1416-42e9-b00b-f69b34866e4b",
   "metadata": {},
   "source": [
    "* An object representing a stream of data.\n",
    "* a concept of iteration over containers.\n",
    "* This is implemented using two distinct methods; these are used to allow user-defined classes to support iteration.\n",
    "* Iterators are required to have an __iter__() method that returns the iterator object itself\n",
    "* Repeated calls to the iterator’s __next__() method (or passing it to the built-in function next()) return successive items in the stream."
   ]
  },
  {
   "cell_type": "markdown",
   "id": "2f6d2661-7e41-4cce-84e3-14c3e25821b2",
   "metadata": {
    "jp-MarkdownHeadingCollapsed": true
   },
   "source": [
    "# Hashable"
   ]
  },
  {
   "cell_type": "markdown",
   "id": "7d92dc8b-83ca-4d30-87d3-05a8a402b2cf",
   "metadata": {},
   "source": [
    "* An object is hashable if it has a hash value which never changes during its lifetime (it needs a __hash__() method), and can be compared to other objects (it needs an __eq__() method).\n",
    "* Hashable objects which compare equal must have the same hash value.\n",
    "* Hashability makes an object usable as a dictionary key and a set member, because these data structures use the hash value internally.\n",
    "* Most of Python’s immutable built-in objects are hashable;\n",
    "* Objects which are instances of user-defined classes are hashable by default.\n",
    "* They all compare unequal (except with themselves), and their hash value is derived from their id()."
   ]
  },
  {
   "cell_type": "markdown",
   "id": "70ed7263-5158-48fb-b9ab-814415628b25",
   "metadata": {
    "jp-MarkdownHeadingCollapsed": true
   },
   "source": [
    "# List"
   ]
  },
  {
   "cell_type": "code",
   "execution_count": 1,
   "id": "862d925d-4444-49ba-9102-d9af018d2f30",
   "metadata": {},
   "outputs": [],
   "source": [
    "a = [1, 2, 3, 4, 5] # List of integers\n",
    "b = ['apple', 'banana', 'cherry'] # List of strings\n",
    "c = [1, 'hello', 3.14, True] # Mixed data types"
   ]
  },
  {
   "cell_type": "markdown",
   "id": "1dedf88d-bddf-4aa4-af97-a71d045ac8f6",
   "metadata": {},
   "source": [
    "# Set"
   ]
  },
  {
   "cell_type": "code",
   "execution_count": null,
   "id": "e049ef8a-e719-471a-aa9b-db2b1eda8875",
   "metadata": {},
   "outputs": [],
   "source": []
  },
  {
   "cell_type": "markdown",
   "id": "ee74519e-b356-45c2-9b64-5da9a1401cb7",
   "metadata": {},
   "source": [
    "# Frozen Set"
   ]
  },
  {
   "cell_type": "code",
   "execution_count": null,
   "id": "75c30913-eb5f-475f-948b-febf74e08d04",
   "metadata": {},
   "outputs": [],
   "source": []
  },
  {
   "cell_type": "markdown",
   "id": "2b8d7121-1f70-46d0-b3a3-bdccdc57059e",
   "metadata": {},
   "source": [
    "# Tuple "
   ]
  },
  {
   "cell_type": "code",
   "execution_count": null,
   "id": "e0252237-01d9-4728-a477-c3bc6e8350e8",
   "metadata": {},
   "outputs": [],
   "source": []
  },
  {
   "cell_type": "markdown",
   "id": "fe083ec9-9d36-4df0-8169-7b5751556c83",
   "metadata": {},
   "source": [
    "# Dictionary"
   ]
  },
  {
   "cell_type": "code",
   "execution_count": null,
   "id": "7e848f25-ec0b-422f-874c-2d9f1990b603",
   "metadata": {},
   "outputs": [],
   "source": []
  },
  {
   "cell_type": "code",
   "execution_count": null,
   "id": "64999a8b-1108-4df0-8e9c-306b3ccabf92",
   "metadata": {},
   "outputs": [],
   "source": []
  },
  {
   "cell_type": "code",
   "execution_count": null,
   "id": "20413b21-f562-467b-b301-379554ad5737",
   "metadata": {},
   "outputs": [],
   "source": []
  },
  {
   "cell_type": "code",
   "execution_count": null,
   "id": "7278b6d0-865f-497e-81ab-9c4d05c70990",
   "metadata": {},
   "outputs": [],
   "source": []
  },
  {
   "cell_type": "code",
   "execution_count": null,
   "id": "2145d7ae-4b64-4a1b-81e7-65727fa21e45",
   "metadata": {},
   "outputs": [],
   "source": []
  },
  {
   "cell_type": "code",
   "execution_count": null,
   "id": "d78f8027-3167-4975-9fcb-8220189dc609",
   "metadata": {},
   "outputs": [],
   "source": []
  },
  {
   "cell_type": "markdown",
   "id": "1d37f45d-e6c2-46cc-ac37-d2a9a4f99380",
   "metadata": {},
   "source": [
    "# Arrays"
   ]
  },
  {
   "cell_type": "code",
   "execution_count": null,
   "id": "1080168f-8a0a-4328-b05c-13bf09770cf4",
   "metadata": {},
   "outputs": [],
   "source": []
  },
  {
   "cell_type": "markdown",
   "id": "efc8064f-e8f7-4cae-94dd-2d25210ed946",
   "metadata": {},
   "source": [
    "# Stacks"
   ]
  },
  {
   "cell_type": "code",
   "execution_count": null,
   "id": "2184aab0-f869-4cf7-ab33-cf95ca346b02",
   "metadata": {},
   "outputs": [],
   "source": []
  },
  {
   "cell_type": "markdown",
   "id": "8f88fb70-e181-4daf-b9ad-c3a66b96b400",
   "metadata": {},
   "source": [
    "# Queue"
   ]
  },
  {
   "cell_type": "code",
   "execution_count": null,
   "id": "b931d00c-e74f-46d3-8375-525222f4a941",
   "metadata": {},
   "outputs": [],
   "source": []
  },
  {
   "cell_type": "code",
   "execution_count": null,
   "id": "c9b9e1f0-44b7-490a-8f6d-0cefaa65e9b6",
   "metadata": {},
   "outputs": [],
   "source": []
  }
 ],
 "metadata": {
  "kernelspec": {
   "display_name": "Python 3 (ipykernel)",
   "language": "python",
   "name": "python3"
  },
  "language_info": {
   "codemirror_mode": {
    "name": "ipython",
    "version": 3
   },
   "file_extension": ".py",
   "mimetype": "text/x-python",
   "name": "python",
   "nbconvert_exporter": "python",
   "pygments_lexer": "ipython3",
   "version": "3.13.5"
  }
 },
 "nbformat": 4,
 "nbformat_minor": 5
}
