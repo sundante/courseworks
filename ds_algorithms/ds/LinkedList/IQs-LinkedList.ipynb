{
 "cells": [
  {
   "cell_type": "markdown",
   "id": "cb887ef4-b131-4b24-82a2-906c67277566",
   "metadata": {},
   "source": [
    "## TOC:\n",
    "* [Find the Middle of a LinkedList](#first)\n",
    "* [Find LinkedList has Loop](#hasLoop)\n",
    "* [Find Kth Node from End](#kthNodeFromEnd)\n",
    "* [Remove Duplicates in LinkedList](#removeDuplicates)\n",
    "* [Partition List](#partitionList)\n",
    "* [Reversed List](#reversedList)\n",
    "\n",
    "-- Sample <a class=\"anchor\" id=\"removeDuplicates\"></a>"
   ]
  },
  {
   "cell_type": "markdown",
   "id": "64fc80e6-dab2-456f-9b41-214d255b79ab",
   "metadata": {
    "jp-MarkdownHeadingCollapsed": true
   },
   "source": [
    "# Find the Middle of a LinkedList <a class=\"anchor\" id=\"first\"></a>"
   ]
  },
  {
   "cell_type": "code",
   "execution_count": 4,
   "id": "8b3307b2-72ee-4744-a381-aa7ee5e0f186",
   "metadata": {},
   "outputs": [],
   "source": [
    "def find_middle_node(self):\n",
    "    slow = self.head\n",
    "    fast = self.head\n",
    "    while fast is not None and fast.next is not None:\n",
    "        slow = slow.next\n",
    "        fast = fast.next.next\n",
    "    return slow"
   ]
  },
  {
   "cell_type": "markdown",
   "id": "b5e2f9fc-2aa7-41d8-9e13-84231b130f37",
   "metadata": {
    "jp-MarkdownHeadingCollapsed": true
   },
   "source": [
    "# Find LinkedList has Loop <a class=\"anchor\" id=\"hasLoop\"></a>"
   ]
  },
  {
   "cell_type": "markdown",
   "id": "372d3ef4-2f4a-4c95-aed8-73138584c491",
   "metadata": {},
   "source": [
    "## Using Floyd's Cycle Detection"
   ]
  },
  {
   "cell_type": "code",
   "execution_count": 5,
   "id": "eefc4461-7bfc-43d4-b4df-d16e4115d1de",
   "metadata": {},
   "outputs": [],
   "source": [
    "def has_loop(self):\n",
    "    slow = self.head\n",
    "    fast = self.head\n",
    "    while fast is not None and fast.next is not None:\n",
    "        slow = slow.next\n",
    "        fast = fast.next.next\n",
    "        if slow == fast:\n",
    "            return True\n",
    "    return False"
   ]
  },
  {
   "cell_type": "markdown",
   "id": "90b104d2-4c17-4403-b897-cc256ea66196",
   "metadata": {
    "jp-MarkdownHeadingCollapsed": true
   },
   "source": [
    "## Using Hash Set"
   ]
  },
  {
   "cell_type": "code",
   "execution_count": 6,
   "id": "299e323d-668c-4e54-9cd1-f49d3f71331c",
   "metadata": {},
   "outputs": [],
   "source": [
    "def detectLoop(self):\n",
    "    st = set()\n",
    "    while self.head is not None:\n",
    "        if self.head in st:\n",
    "            return True\n",
    "        else:\n",
    "            st.add(self.head)\n",
    "            self.head = self.head.next\n",
    "    return False"
   ]
  },
  {
   "cell_type": "markdown",
   "id": "32e5bb6f-c33f-4413-8933-4068a52ce1ea",
   "metadata": {
    "jp-MarkdownHeadingCollapsed": true
   },
   "source": [
    "# Find Kth Node from the End <a class=\"anchor\" id=\"kthNodeFromEnd\"></a>"
   ]
  },
  {
   "cell_type": "code",
   "execution_count": 7,
   "id": "75119f8c-978b-4ac1-a211-aae9a8f40f37",
   "metadata": {},
   "outputs": [],
   "source": [
    "def find_kth_from_end(ll, k):\n",
    "    slow = fast = ll.head   \n",
    "    for _ in range(1,k):\n",
    "        if fast is None:\n",
    "            return None\n",
    "        fast = fast.next\n",
    " \n",
    "    while fast:\n",
    "        slow = slow.next\n",
    "        fast = fast.next\n",
    "        \n",
    "    return slow.value"
   ]
  },
  {
   "cell_type": "markdown",
   "id": "16264cb6-7c52-418c-98c1-3265bcca78ea",
   "metadata": {
    "jp-MarkdownHeadingCollapsed": true
   },
   "source": [
    "# Remove Duplicates in LinkedList <a class=\"anchor\" id=\"removeDuplicates\"></a>"
   ]
  },
  {
   "cell_type": "markdown",
   "id": "c6236b04-5566-4e0c-8983-59fe9acf00e1",
   "metadata": {},
   "source": [
    "## Using 2 Pointers"
   ]
  },
  {
   "cell_type": "code",
   "execution_count": 8,
   "id": "ac8ff5f5-8d59-43e8-9bad-d677410272f8",
   "metadata": {},
   "outputs": [],
   "source": [
    "def remove_duplicates(self):\n",
    "    ptr = self.head\n",
    "    runner = self.head.next\n",
    "    def remove_duplicates(self):\n",
    "        current = self.head\n",
    "        while current:\n",
    "            # Start checking from the next node\n",
    "            runner = current\n",
    "            while runner.next:\n",
    "                # If the next node's value matches current's value, skip it\n",
    "                if runner.next.value == current.value:\n",
    "                    runner.next = runner.next.next\n",
    "                    self.length -= 1\n",
    "                else:\n",
    "                    runner = runner.next\n",
    "            current = current.next"
   ]
  },
  {
   "cell_type": "markdown",
   "id": "2bd3d41f-3bbe-45a8-8b6d-e8af2a25314f",
   "metadata": {
    "jp-MarkdownHeadingCollapsed": true
   },
   "source": [
    "## Using Set"
   ]
  },
  {
   "cell_type": "code",
   "execution_count": 9,
   "id": "87221d40-acc1-4ff1-9193-93ca6b65bd62",
   "metadata": {},
   "outputs": [],
   "source": [
    "def remove_duplicates(self):\n",
    "    values = set()\n",
    "    previous = None\n",
    "    current = self.head\n",
    "    while current:\n",
    "        if current.value in values:\n",
    "            previous.next = current.next\n",
    "            self.length -= 1\n",
    "        else:\n",
    "            values.add(current.value)\n",
    "            previous = current\n",
    "        current = current.next"
   ]
  },
  {
   "cell_type": "markdown",
   "id": "e80a25ad-708d-4eca-ad87-69e82eba3d85",
   "metadata": {},
   "source": [
    "# Partition List <a class=\"anchor\" id=\"partitionList\"></a>"
   ]
  },
  {
   "cell_type": "code",
   "execution_count": 10,
   "id": "521e403c-1a18-4336-be8f-0d0c4c710323",
   "metadata": {},
   "outputs": [],
   "source": [
    "def partition_list(self, x):\n",
    "        if not self.head:\n",
    "            return None\n",
    "    \n",
    "        dummy1 = Node(0)\n",
    "        dummy2 = Node(0)\n",
    "        prev1 = dummy1\n",
    "        prev2 = dummy2\n",
    "        current = self.head\n",
    "    \n",
    "        while current:\n",
    "            if current.value < x:\n",
    "                prev1.next = current\n",
    "                prev1 = current\n",
    "            else:\n",
    "                prev2.next = current\n",
    "                prev2 = current\n",
    "            current = current.next\n",
    "    \n",
    "        prev1.next = dummy2.next\n",
    "        prev2.next = None\n",
    "    \n",
    "        self.head = dummy1.next"
   ]
  },
  {
   "cell_type": "code",
   "execution_count": 11,
   "id": "58163c89-c289-4966-8940-95119414024a",
   "metadata": {},
   "outputs": [],
   "source": [
    "# Reversed LinkedList <a class=\"anchor\" id=\"reversedList\"></a>"
   ]
  },
  {
   "cell_type": "code",
   "execution_count": null,
   "id": "c7140317-6816-4df4-a1e2-e10433e865a7",
   "metadata": {},
   "outputs": [],
   "source": []
  }
 ],
 "metadata": {
  "kernelspec": {
   "display_name": "Python 3 (ipykernel)",
   "language": "python",
   "name": "python3"
  },
  "language_info": {
   "codemirror_mode": {
    "name": "ipython",
    "version": 3
   },
   "file_extension": ".py",
   "mimetype": "text/x-python",
   "name": "python",
   "nbconvert_exporter": "python",
   "pygments_lexer": "ipython3",
   "version": "3.13.5"
  }
 },
 "nbformat": 4,
 "nbformat_minor": 5
}
