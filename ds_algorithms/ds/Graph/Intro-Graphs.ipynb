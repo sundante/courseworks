{
 "cells": [
  {
   "cell_type": "markdown",
   "id": "bc6e1571-ee23-4736-96ad-21cc7e2c3166",
   "metadata": {},
   "source": [
    "# Graphs\n",
    "* Vertex or Node\n",
    "* Edge or Connection\n",
    "* Can have Wieghted Edges\n",
    "* Trees are a form of Graph\n",
    "* LinkedList is a form of Tree which is a form of Graph\n",
    "\n",
    "### Uses - Maps, Networks\n",
    "\n",
    "### Graph Representations:\n",
    "* Adjacency Matrix\n",
    "* Adjacency List"
   ]
  },
  {
   "cell_type": "code",
   "execution_count": null,
   "id": "74420ab1-d4f1-412b-8aef-f557778ac65a",
   "metadata": {},
   "outputs": [],
   "source": []
  },
  {
   "cell_type": "code",
   "execution_count": null,
   "id": "2a17ef59-06e6-40a9-9950-0629c80495e8",
   "metadata": {},
   "outputs": [],
   "source": []
  }
 ],
 "metadata": {
  "kernelspec": {
   "display_name": "Python 3 (ipykernel)",
   "language": "python",
   "name": "python3"
  },
  "language_info": {
   "codemirror_mode": {
    "name": "ipython",
    "version": 3
   },
   "file_extension": ".py",
   "mimetype": "text/x-python",
   "name": "python",
   "nbconvert_exporter": "python",
   "pygments_lexer": "ipython3",
   "version": "3.13.5"
  }
 },
 "nbformat": 4,
 "nbformat_minor": 5
}
