{
 "cells": [
  {
   "cell_type": "markdown",
   "id": "396626f6-97e0-4e66-9c21-2323d75045e1",
   "metadata": {
    "jp-MarkdownHeadingCollapsed": true
   },
   "source": [
    "# Packing and Unpacking"
   ]
  },
  {
   "cell_type": "markdown",
   "id": "228d8f28-a4a2-413b-bba2-9f427aeff672",
   "metadata": {},
   "source": [
    "* Same Operator does for each\n",
    "* <b>Packing</b> allows multiple values to be combined into a single parameter using\n",
    "  *  \\* (for tuples/lists)\n",
    "  *  \\** (for dictionaries)\n",
    "* <b>Unpacking</b> allows values from an iterable (list, tuple, or dictionary) to be passed as separate arguments to a function.\n",
    "* you can use an _ to ignore certain values or throw away variables"
   ]
  },
  {
   "cell_type": "markdown",
   "id": "3bb99af3-0b20-4919-880d-22176ebd024d",
   "metadata": {
    "jp-MarkdownHeadingCollapsed": true
   },
   "source": [
    "## Packing"
   ]
  },
  {
   "cell_type": "code",
   "execution_count": null,
   "id": "9e5bd938-00bc-425b-9795-6cb3a934fd1c",
   "metadata": {},
   "outputs": [],
   "source": [
    "def sample(*args):\n",
    "    print(\"Packed arguments:\", args)\n",
    "\n",
    "sample(1, 2, 3, 4, \"geeks for geeks\")\n",
    "\n",
    "#----------------------#\n",
    "def sample(**kwargs):\n",
    "    print(\"Packed keyword arguments:\", kwargs)\n",
    "\n",
    "sample(name=\"Anaya\", age=25, country=\"India\")"
   ]
  },
  {
   "cell_type": "markdown",
   "id": "d02a2d1c-83fc-49b7-8e07-b846d36fe83a",
   "metadata": {
    "jp-MarkdownHeadingCollapsed": true
   },
   "source": [
    "## Unpacking"
   ]
  },
  {
   "cell_type": "code",
   "execution_count": null,
   "id": "c34f2b99-425d-4ed4-9d83-6016177959ba",
   "metadata": {},
   "outputs": [],
   "source": [
    "def addition(a, b, c):\n",
    "    return a + b + c\n",
    "\n",
    "num = (1, 5, 10)  \n",
    "result = addition(*num) \n",
    "\n",
    "#----------------------#\n",
    "def info(name, age, country):\n",
    "    print(f\"Name: {name}, Age: {age}, Country: {country}\")\n",
    "\n",
    "data = {\"name\": \"geeks for geeks\", \"age\": 30, \"country\": \"India\"}\n",
    "info(**data)"
   ]
  },
  {
   "cell_type": "markdown",
   "id": "3862fbfb-a35d-4fc7-83ef-448e7fcc3d1c",
   "metadata": {
    "jp-MarkdownHeadingCollapsed": true
   },
   "source": [
    "# *args and **kwargs"
   ]
  },
  {
   "cell_type": "markdown",
   "id": "9365ee86-9793-4276-995f-25f714a5722b",
   "metadata": {},
   "source": [
    "* *args and **kwargs let functions accept a variable number of arguments.\n",
    "* *args\n",
    "    * Collects positional (non-keyword) arguments into a tuple.\n",
    "\t* Lets you pass any number of positional arguments.\n",
    "* **kwargs\n",
    "\t* Collects keyword arguments into a dictionary.\n",
    "\t* Lets you pass any number of key=value pairs."
   ]
  },
  {
   "cell_type": "code",
   "execution_count": null,
   "id": "7fe9522e-069c-4d5d-b05c-16ef4339bb80",
   "metadata": {},
   "outputs": [],
   "source": [
    "# *args example\n",
    "def fun(*args):\n",
    "    return sum(args)\n",
    "\n",
    "print(fun(5, 10, 15))   \n",
    "\n",
    "# **kwargs example\n",
    "def fun(**kwargs):\n",
    "    for k, val in kwargs.items():\n",
    "        print(k, val)\n",
    "\n",
    "fun(a=1, b=2, c=3)"
   ]
  },
  {
   "cell_type": "markdown",
   "id": "5fdbb48a-bc07-4d9f-85a6-b32eca843999",
   "metadata": {
    "jp-MarkdownHeadingCollapsed": true
   },
   "source": [
    "# Dictionary Comprehension"
   ]
  },
  {
   "cell_type": "code",
   "execution_count": null,
   "id": "e57718fb-af05-49a4-bcb7-2c3a3db9afce",
   "metadata": {},
   "outputs": [],
   "source": [
    "# Lists to represent keys and values\n",
    "keys = ['a','b','c','d','e']\n",
    "values = [1,2,3,4,5]  \n",
    "\n",
    "# but this line shows dict comprehension here  \n",
    "myDict = { k:v for (k,v) in zip(keys, values)}\n",
    "\n",
    "# creating dictionary using list comprehension\n",
    "myDict = {x: x**2 for x in [1,2,3,4,5]}\n",
    "print(myDict)\n",
    "sDict = {x.upper(): x*3 for x in 'coding '}\n",
    "print(sDict)"
   ]
  },
  {
   "cell_type": "markdown",
   "id": "325a0aa0-7c55-420f-b38c-344cfe6d9745",
   "metadata": {
    "jp-MarkdownHeadingCollapsed": true
   },
   "source": [
    "# Special Functions: Lambda, Map, Filter, Reduce, Zip"
   ]
  },
  {
   "cell_type": "markdown",
   "id": "675e11db-a1a1-4e3b-b6a0-43734de8d41c",
   "metadata": {
    "jp-MarkdownHeadingCollapsed": true
   },
   "source": [
    "## Lambda()\n",
    "* a small, anonymous function defined using the lambda keyword\n",
    "* can take any number of arguments but can only have one expression."
   ]
  },
  {
   "cell_type": "code",
   "execution_count": null,
   "id": "b5267149-a3b2-47e4-b245-7052df0e33d3",
   "metadata": {},
   "outputs": [],
   "source": [
    "add_two = lambda x: x + 2\n",
    "print(add_two(5))  # Output: 7"
   ]
  },
  {
   "cell_type": "markdown",
   "id": "728293f0-accf-45d2-b2e5-fc21f587df6e",
   "metadata": {
    "jp-MarkdownHeadingCollapsed": true
   },
   "source": [
    "## Map()\n",
    "* map() function applies a given function to each item in an iterable (like a list or tuple) and returns an iterator of the results.\n",
    "* takes two arguments: the function to apply and the iterable(s)."
   ]
  },
  {
   "cell_type": "code",
   "execution_count": null,
   "id": "c25e8297-23fd-4d81-ae10-fc7f90c5e3f5",
   "metadata": {},
   "outputs": [],
   "source": [
    "numbers = [1, 2, 3, 4]\n",
    "squared_numbers = list(map(lambda x: x**2, numbers))\n",
    "print(squared_numbers)  # Output: [1, 4, 9, 16]"
   ]
  },
  {
   "cell_type": "markdown",
   "id": "4ef29387-4e83-4c4e-8144-c304c65d88ed",
   "metadata": {
    "jp-MarkdownHeadingCollapsed": true
   },
   "source": [
    "## Filter()\n",
    "* constructs an iterator from elements of an iterable for which a function returns True"
   ]
  },
  {
   "cell_type": "code",
   "execution_count": 1,
   "id": "0c84b561-4dd5-415c-a001-f862cdbeb6f6",
   "metadata": {},
   "outputs": [
    {
     "name": "stdout",
     "output_type": "stream",
     "text": [
      "[2, 4, 6]\n"
     ]
    }
   ],
   "source": [
    "numbers = [1, 2, 3, 4, 5, 6]\n",
    "even_numbers = list(filter(lambda x: x % 2 == 0, numbers))\n",
    "print(even_numbers)  # Output: [2, 4, 6]"
   ]
  },
  {
   "cell_type": "markdown",
   "id": "0d68f13d-2e20-4c19-82a4-c77bb33815b0",
   "metadata": {
    "jp-MarkdownHeadingCollapsed": true
   },
   "source": [
    "## Reduce()\n",
    "* found in the functools module\n",
    "* applies a function of two arguments cumulatively to the items of an iterable, from left to right, so as to reduce the iterable to a single value"
   ]
  },
  {
   "cell_type": "code",
   "execution_count": null,
   "id": "f4e8c88f-40df-4750-8114-4affdee36f48",
   "metadata": {},
   "outputs": [],
   "source": [
    "from functools import reduce\n",
    "\n",
    "# Example of reduce() with a lambda function\n",
    "numbers = [1, 2, 3, 4]\n",
    "product = reduce(lambda x, y: x * y, numbers)\n",
    "print(product)  # Output: 24"
   ]
  },
  {
   "cell_type": "markdown",
   "id": "d94250c4-7ded-4154-9ccb-b8ce76e1114c",
   "metadata": {
    "jp-MarkdownHeadingCollapsed": true
   },
   "source": [
    "## Zip()\n",
    "* takes multiple iterables and aggregates elements from each of them into a single iterator of tuples"
   ]
  },
  {
   "cell_type": "code",
   "execution_count": 2,
   "id": "46ab8abb-c7a7-4a6f-a99f-6f66dd5946c5",
   "metadata": {},
   "outputs": [
    {
     "name": "stdout",
     "output_type": "stream",
     "text": [
      "[('Alice', 25), ('Bob', 30), ('Charlie', 22)]\n"
     ]
    }
   ],
   "source": [
    "names = [\"Alice\", \"Bob\", \"Charlie\"]\n",
    "ages = [25, 30, 22]\n",
    "combined_data = list(zip(names, ages))\n",
    "print(combined_data)  # Output: [('Alice', 25), ('Bob', 30), ('Charlie', 22)]"
   ]
  },
  {
   "cell_type": "code",
   "execution_count": 8,
   "id": "74cb30cf-5caa-47a2-bf08-08f00785c257",
   "metadata": {},
   "outputs": [
    {
     "name": "stdout",
     "output_type": "stream",
     "text": [
      "<zip object at 0x107170a80>\n",
      "[('Alice', 25), ('Bob', 30), ('Charlie', 22)]\n"
     ]
    }
   ],
   "source": [
    "print(zip(*combined_data)) # returns iterator\n",
    "print([*combined_data]) # retunr unpacked list"
   ]
  },
  {
   "cell_type": "markdown",
   "id": "d43dc175-a34f-49de-b2c8-827b93425161",
   "metadata": {},
   "source": [
    "# Temp"
   ]
  },
  {
   "cell_type": "code",
   "execution_count": null,
   "id": "bc119af2-c8bf-4529-85ea-2fe54331416f",
   "metadata": {},
   "outputs": [],
   "source": []
  }
 ],
 "metadata": {
  "kernelspec": {
   "display_name": "Python 3 (ipykernel)",
   "language": "python",
   "name": "python3"
  },
  "language_info": {
   "codemirror_mode": {
    "name": "ipython",
    "version": 3
   },
   "file_extension": ".py",
   "mimetype": "text/x-python",
   "name": "python",
   "nbconvert_exporter": "python",
   "pygments_lexer": "ipython3",
   "version": "3.13.5"
  }
 },
 "nbformat": 4,
 "nbformat_minor": 5
}
