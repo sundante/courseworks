{
 "cells": [
  {
   "cell_type": "markdown",
   "id": "ec216b28-ad67-46cc-87e5-2138f1959a55",
   "metadata": {},
   "source": [
    "# References\n",
    "* <a href=\"https://www.geeksforgeeks.org/dsa/dsa-tutorial-learn-data-structures-and-algorithms\"> DSA Tutorial - Learn Data Structures and Algorithms</a>\n",
    "* <a href=\"https://algomaster.io/practice/dsa-patterns\"> AlgoMaster - Master DSA Patterns</a>\n",
    "* <a href=\"https://www.geeksforgeeks.org/dsa/geeksforgeeks-practice-best-online-coding-platform/\">GeeksforGeeks Practice - Leading Online Coding Platform</a>\n",
    "* <a href=\"https://docs.python.org/3/library/functions.html\">Python Built-in Functions</a>"
   ]
  },
  {
   "cell_type": "markdown",
   "id": "aa99b1b4-4eb2-4111-bc74-d07c65268514",
   "metadata": {
    "jp-MarkdownHeadingCollapsed": true
   },
   "source": [
    "# Dynamic Programming"
   ]
  },
  {
   "cell_type": "markdown",
   "id": "403fdc16-a5d4-418d-96ea-db295f2497b9",
   "metadata": {},
   "source": [
    "* The core idea behind DP is to store solutions to subproblems so that each is solved only once.\n",
    "* To solve DP problems, we first write a recursive solution in a way that there are overlapping subproblems in the recursion tree.\n",
    "* To make sure that a recursive value is computed only once (to improve time taken by algorithm), we store results of the recursive calls.\n",
    "* There are two ways to store the results:\n",
    "    * top down (or memoization)\n",
    "        * This approach follows the memoization technique.\n",
    "        * recursion represents the process of calling functions repeatedly,\n",
    "        * cache refers to the process of storing intermediate results.\n",
    "    * bottom up (or tabulation).\n",
    "        * This approach uses the tabulation technique to implement the dynamic programming solution.\n",
    "        * It addresses the same problems as before, but without recursion.\n",
    "        * In this approach, iteration replaces recursion. Hence, there is no stack overflow error or overhead of recursive procedures."
   ]
  },
  {
   "cell_type": "markdown",
   "id": "eb3f1232-dfe2-4189-9915-aeb721dc4baa",
   "metadata": {},
   "source": [
    "## Memoization"
   ]
  },
  {
   "cell_type": "markdown",
   "id": "13588811-ecde-4018-a67f-15ef5523914c",
   "metadata": {},
   "source": [
    "* Memoization is an optimization technique\n",
    "* primarily used to enhance the performance of algorithms by storing the results of expensive function calls and reusing them when the same inputs occur again\n",
    "* The term comes from \"memorandum\", which refers to a note intended to help with memory.\n",
    "* Memoization is particularly effective in scenarios involving repeated computations.\n",
    "* basically stores the previously calculated result of the subproblem and reuses the stored result for the same subproblem.\n",
    "* Types:\n",
    "    * 1D Memoization: Used when the recursive function has one argument whose value changes with every function call.\n",
    "    * 2D Memoization: Used when the recursive function has two arguments whose values change with every function call.\n",
    "    * 3D Memoization: Used when the recursive function has three arguments whose values change with every function call."
   ]
  },
  {
   "cell_type": "markdown",
   "id": "7ed77adc-20a6-4a22-b279-cfe7c4446236",
   "metadata": {},
   "source": [
    "## Tabulation"
   ]
  },
  {
   "cell_type": "code",
   "execution_count": null,
   "id": "75533c41-4450-487e-9fe5-de654680bdd6",
   "metadata": {},
   "outputs": [],
   "source": []
  },
  {
   "cell_type": "markdown",
   "id": "afdfaf03-0d75-45f3-9e1b-152c454ae224",
   "metadata": {},
   "source": [
    "# Searching"
   ]
  },
  {
   "cell_type": "markdown",
   "id": "f9d73cc4-ab88-4b0b-88d7-8d65f9eae855",
   "metadata": {
    "jp-MarkdownHeadingCollapsed": true
   },
   "source": [
    "### 🔍 Searching Algorithms in Python\n",
    "\n",
    "| **Algorithm** | **Type** | **Data Requirement** | **Time Complexity** | **Key Idea / Use Case** |\n",
    "|----------------|-----------|-----------------------|----------------------|---------------------------|\n",
    "| **Linear Search** | Sequential | Unsorted / Any | O(n) | Check every element one by one |\n",
    "| **Jump Search** | Block-based | **Sorted** | O(√n) | Jump in blocks, then linear search within block |\n",
    "| **Interpolation Search** | Predictive | **Sorted (uniformly distributed)** | O(log log n) avg | Improves binary search by estimating position |\n",
    "| **Exponential Search** | Hybrid | **Sorted** | O(log n) | Find range by doubling index, then binary search |\n",
    "| **Binary Search** | Divide & Conquer | **Sorted** | O(log n) | Repeatedly divide the search range in half |\n",
    "| **Ternary Search** | Divide & Conquer | **Sorted (monotonic function)** | O(log₃ n) | Splits array into three parts |\n",
    "| **Fibonacci Search** | Divide & Conquer | **Sorted** | O(log n) | Uses Fibonacci numbers to partition array |\n",
    "| **Hash-based Search** | Direct Access | Any (hashable keys) | O(1) avg | Use dict / set lookup (`x in dict`) |\n",
    "\n",
    "---\n",
    "\n",
    "**Most Common for Interviews:**  \n",
    "- Linear Search  \n",
    "- Binary Search  \n",
    "- Hash-based Search"
   ]
  },
  {
   "cell_type": "markdown",
   "id": "060c203e-1ad0-4a22-8b5f-1e7f55af97e3",
   "metadata": {
    "jp-MarkdownHeadingCollapsed": true
   },
   "source": [
    "## Linear Search"
   ]
  },
  {
   "cell_type": "markdown",
   "id": "a19108e5-fb0a-4906-89b0-f4abf1e4811d",
   "metadata": {},
   "source": [
    "* we iterate over all the elements of the array and check if it the current element is equal to the target element.\n",
    "* If we find any element to be equal to the target element, then return the index of the current element.\n",
    "* If no element is equal to the target element, then return -1 as the element is not found.\n",
    "* Time Complexity: O(n)\n",
    "* Space Complexity O(1)\n",
    "* Applications:\n",
    "    * Unsorted List\n",
    "    * Small Data Sets\n",
    "    * Searching Linked Lists\n",
    "* When to Use:\n",
    "    * dealing with small dataset\n",
    "    * searching for a dataset stored in contiguous memory"
   ]
  },
  {
   "cell_type": "markdown",
   "id": "53b9e18b-8714-4c08-91d8-fc003fff2ffe",
   "metadata": {
    "jp-MarkdownHeadingCollapsed": true
   },
   "source": [
    "## Binary Search"
   ]
  },
  {
   "cell_type": "markdown",
   "id": "a5a959b7-80ab-406d-ae8e-3ee0ee1fb3c0",
   "metadata": {},
   "source": [
    "* operates on a sorted or monotonic search space\n",
    "* repeatedly dividing it into halves to find a target value or optimal answer\n",
    "* Time Complexity: O(log N)\n",
    "* Implementations:\n",
    "    * Iterative BSA\n",
    "    * Recursive BSA\n",
    "* Applications:\n",
    "    * Searching in sorted arrays\n",
    "    * finding first/last occurance match\n",
    "    * Database indexing\n",
    "    * Debugging in Version Control\n",
    "    * Network Routing and IP Lookup\n",
    "    * File Systems & Libraries\n",
    "    * Gaming/graphics\n",
    "    * Machine Learning tunning - hyperparameter search"
   ]
  },
  {
   "cell_type": "markdown",
   "id": "229d3a67-4153-4b1a-95fb-89342138e9d6",
   "metadata": {
    "jp-MarkdownHeadingCollapsed": true
   },
   "source": [
    "# Sorting"
   ]
  },
  {
   "cell_type": "markdown",
   "id": "d39ba0ee-2dbd-44a8-b502-06c931fd96a9",
   "metadata": {},
   "source": [
    "* Increasing Order: A set of values are said to be increasing order when every successive element is greater than its previous element. For example: 1, 2, 3, 4, 5.\n",
    "* Decreasing Order: A set of values are said to be in decreasing order when the successive element is always less than the previous one. For Example: 5, 4, 3, 2, 1.\n",
    "* Non-Increasing Order: A set of values are said to be in non-increasing order if every ith element present in the sequence is less than or equal to its (i-1)th element. This order occurs whenever there are numbers that are being repeated. For Example: 5, 4, 3, 2, 2, 1. Here 2 repeated two times.\n",
    "* Non-Decreasing Order: A set of values are said to be in non-decreasing order if every ith element present in the sequence is greater than or equal to its (i-1)th element. This order occurs whenever there are numbers that are being repeated. For Example: 1, 2, 2, 3, 4, 5. Here 2 repeated two times.\n",
    "\n",
    "---------\n",
    "* sort(), sorted(): built-in functions to sort list\n",
    "\n",
    "---------\n",
    "* <a href=\"https://www.geeksforgeeks.org/python/sorting-algorithms-in-python/\">Sorting Algorithms in Python</a>:\n",
    "| **Algorithm** | **Type** | **In-place** | **Stable** | **Time Complexity (Best / Avg / Worst)** | **Use Case / Key Idea** |\n",
    "|----------------|-----------|---------------|-------------|------------------------------------------|---------------------------|\n",
    "| **Bubble Sort** | Comparison-based | Yes | Yes | O(n) / O(n²) / O(n²) | Repeatedly swap adjacent elements if out of order |\n",
    "| **Selection Sort** | Comparison-based | Yes | No | O(n²) / O(n²) / O(n²) | Select the smallest element and move it to correct position |\n",
    "| **Insertion Sort** | Comparison-based | Yes | Yes | O(n) / O(n²) / O(n²) | Build sorted array one item at a time |\n",
    "| **Merge Sort** | Divide & Conquer | No | Yes | O(n log n) / O(n log n) / O(n log n) | Split, sort recursively, then merge |\n",
    "| **Quick Sort** | Divide & Conquer | Yes | No | O(n log n) / O(n log n) / O(n²) | Partition around a pivot |\n",
    "| **Heap Sort** | Comparison-based | Yes | No | O(n log n) / O(n log n) / O(n log n) | Use heap data structure for sorting |\n",
    "| **Cycle Sort** | Comparison-based | Yes | No | O(n²) / O(n²) / O(n²) | Minimize number of writes (useful for memory-limited systems) |\n",
    "| **3-way Merge Sort** | Divide & Conquer | No | Yes | O(n log₃ n) / O(n log₃ n) / O(n log₃ n) | Splits array into three parts for merging |\n",
    "| **Counting Sort** | Non-comparison | No | Yes | O(n + k) / O(n + k) / O(n + k) | Count occurrences of elements (integers, small range) |\n",
    "| **Radix Sort** | Non-comparison | No | Yes | O(nk) / O(nk) / O(nk) | Sort digits place by place using Counting Sort |\n",
    "| **Bucket Sort** | Non-comparison | No | Yes | O(n + k) / O(n + k) / O(n²) | Divide elements into buckets, then sort each bucket |\n",
    "| **Tim Sort** | Hybrid (Merge + Insertion) | No | Yes | O(n) / O(n log n) / O(n log n) | Python’s built-in `sort()` algorithm |\n",
    "| **Comb Sort** | Comparison-based | Yes | No | O(n log n) / O(n²) / O(n²) | Improves Bubble Sort by using gap comparison |\n",
    "| **Pigeonhole Sort** | Non-comparison | No | Yes | O(n + Range) / O(n + Range) / O(n + Range) | Similar to Counting Sort but uses holes for keys |\n",
    "| **Shell Sort** | Comparison-based | Yes | No | O(n log n) / O(n log² n) / O(n²) | Generalization of Insertion Sort using gap sequences |\n",
    "\n",
    "---\n",
    "\n",
    "Commonly asked in interviews:  \n",
    "Bubble Sort, Selection Sort, Insertion Sort, Merge Sort, Quick Sort, Heap Sort, Counting Sort, Radix Sort, Tim Sort"
   ]
  },
  {
   "cell_type": "code",
   "execution_count": null,
   "id": "735b0ef8-1fc9-4bfe-9542-a99de58d2b02",
   "metadata": {},
   "outputs": [],
   "source": []
  },
  {
   "cell_type": "code",
   "execution_count": null,
   "id": "25a37e05-3202-4b67-a36f-c5e30a5fc1aa",
   "metadata": {},
   "outputs": [],
   "source": []
  },
  {
   "cell_type": "code",
   "execution_count": null,
   "id": "8011efd4-b660-45ab-bccd-ba08be010dc9",
   "metadata": {},
   "outputs": [],
   "source": []
  },
  {
   "cell_type": "markdown",
   "id": "37d69074-7649-41c5-8c2f-5567e9608045",
   "metadata": {},
   "source": [
    "# Greedy"
   ]
  },
  {
   "cell_type": "markdown",
   "id": "16fef330-9ec0-4a8e-97e0-f8aca5b7c297",
   "metadata": {},
   "source": [
    "# Graph"
   ]
  },
  {
   "cell_type": "markdown",
   "id": "7d0b9185-3e56-46bd-bdc7-5492502ce440",
   "metadata": {
    "jp-MarkdownHeadingCollapsed": true
   },
   "source": [
    "# Bitwise"
   ]
  },
  {
   "cell_type": "code",
   "execution_count": null,
   "id": "85777de9-ff35-4bc6-bd74-50284e3765cc",
   "metadata": {},
   "outputs": [],
   "source": []
  },
  {
   "cell_type": "markdown",
   "id": "ee24f52a-eeab-4d1d-9ede-eb3b22dddbc5",
   "metadata": {
    "jp-MarkdownHeadingCollapsed": true
   },
   "source": [
    "# Kadane's Algorithms"
   ]
  },
  {
   "cell_type": "markdown",
   "id": "fdc4bb10-1123-4bd7-9a59-d0353ead19f0",
   "metadata": {},
   "source": [
    "* an efficient dynamic programming algorithm\n",
    "* to find the sum of contiguous subarray within a one-dimensional array of numbers that has the largest sum\n",
    "* solves the \"Maximum Subarray Sum\" problem in linear time complexity, O(N), and constant space complexity, O(1)\n",
    "* uses 2 variables:\n",
    "    * max_ending_here: This variable stores the maximum sum of a contiguous subarray ending at the current position.\n",
    "    * max_so_far: This variable stores the overall maximum sum found across all contiguous subarrays encountered so far."
   ]
  },
  {
   "cell_type": "code",
   "execution_count": 1,
   "id": "b6db0d76-74cf-4b47-9c63-45ac3162e2a4",
   "metadata": {},
   "outputs": [],
   "source": [
    "def kadanes_algorithm(arr):\n",
    "    \"\"\"\n",
    "    Classic Kadane's Algorithm\n",
    "    Time: O(n), Space: O(1)\n",
    "    \n",
    "    Key Idea: At each position, decide whether to:\n",
    "    1. Continue the existing subarray, or\n",
    "    2. Start a new subarray from current position\n",
    "    \n",
    "    Choose whichever gives a larger sum!\n",
    "    \"\"\"\n",
    "    if not arr:\n",
    "        return 0\n",
    "    \n",
    "    max_sum = arr[0]           # Best sum found so far\n",
    "    current_sum = arr[0]       # Sum of current subarray\n",
    "    \n",
    "    for i in range(1, len(arr)):\n",
    "        # Key decision: extend current subarray or start new one?\n",
    "        current_sum = max(arr[i], current_sum + arr[i])\n",
    "        \n",
    "        # Update global maximum\n",
    "        max_sum = max(max_sum, current_sum)\n",
    "    \n",
    "    return max_sum"
   ]
  },
  {
   "cell_type": "code",
   "execution_count": 2,
   "id": "86c0a67b-e320-4b02-8080-d7ef55986713",
   "metadata": {},
   "outputs": [],
   "source": [
    "def kadanes_with_indices(arr):\n",
    "    \"\"\"\n",
    "    Return maximum sum AND the subarray indices\n",
    "    Returns: (max_sum, start_index, end_index)\n",
    "    \"\"\"\n",
    "    if not arr:\n",
    "        return 0, -1, -1\n",
    "    \n",
    "    max_sum = arr[0]\n",
    "    current_sum = arr[0]\n",
    "    \n",
    "    max_start = 0\n",
    "    max_end = 0\n",
    "    current_start = 0\n",
    "    \n",
    "    for i in range(1, len(arr)):\n",
    "        # If starting fresh is better, update start index\n",
    "        if arr[i] > current_sum + arr[i]:\n",
    "            current_sum = arr[i]\n",
    "            current_start = i\n",
    "        else:\n",
    "            current_sum = current_sum + arr[i]\n",
    "        \n",
    "        # Update maximum if needed\n",
    "        if current_sum > max_sum:\n",
    "            max_sum = current_sum\n",
    "            max_start = current_start\n",
    "            max_end = i\n",
    "    \n",
    "    return max_sum, max_start, max_end\n",
    "    \n",
    "def kadanes_return_subarray(arr):\n",
    "    \"\"\"\n",
    "    Return the actual subarray with maximum sum\n",
    "    Returns: (max_sum, subarray)\n",
    "    \"\"\"\n",
    "    if not arr:\n",
    "        return 0, []\n",
    "    \n",
    "    max_sum, start, end = kadanes_with_indices(arr)\n",
    "    return max_sum, arr[start:end+1]"
   ]
  },
  {
   "cell_type": "code",
   "execution_count": 3,
   "id": "a89f5cfe-abd4-4bac-b1cb-704806aac429",
   "metadata": {},
   "outputs": [],
   "source": [
    "def max_product_subarray(arr):\n",
    "    \"\"\"\n",
    "    Find maximum product of contiguous subarray\n",
    "    Modified Kadane's for multiplication (handles negatives)\n",
    "    \n",
    "    Track both max and min (negative × negative = positive!)\n",
    "    \"\"\"\n",
    "    if not arr:\n",
    "        return 0\n",
    "    \n",
    "    max_so_far = arr[0]\n",
    "    max_ending_here = arr[0]\n",
    "    min_ending_here = arr[0]\n",
    "    \n",
    "    for i in range(1, len(arr)):\n",
    "        num = arr[i]\n",
    "        \n",
    "        # Temp store max (needed for min calculation)\n",
    "        temp_max = max_ending_here\n",
    "        \n",
    "        # Max can be: num itself, num × max, or num × min\n",
    "        max_ending_here = max(num, max_ending_here * num, min_ending_here * num)\n",
    "        \n",
    "        # Min can be: num itself, num × max, or num × min\n",
    "        min_ending_here = min(num, temp_max * num, min_ending_here * num)\n",
    "        \n",
    "        max_so_far = max(max_so_far, max_ending_here)\n",
    "    \n",
    "    return max_so_far"
   ]
  },
  {
   "cell_type": "code",
   "execution_count": null,
   "id": "bf801fcb-6d26-415b-844f-8fec83a094bd",
   "metadata": {},
   "outputs": [],
   "source": [
    "def kadanes_2d(matrix):\n",
    "    \"\"\"\n",
    "    Maximum sum rectangle in 2D matrix\n",
    "    Uses Kadane's on each column combination\n",
    "    Time: O(rows × cols²)\n",
    "    \"\"\"\n",
    "    if not matrix or not matrix[0]:\n",
    "        return 0\n",
    "    \n",
    "    rows = len(matrix)\n",
    "    cols = len(matrix[0])\n",
    "    max_sum = float('-inf')\n",
    "    \n",
    "    # Try all column combinations\n",
    "    for left in range(cols):\n",
    "        temp = [0] * rows\n",
    "        \n",
    "        for right in range(left, cols):\n",
    "            # Add current column to temp\n",
    "            for i in range(rows):\n",
    "                temp[i] += matrix[i][right]\n",
    "            \n",
    "            # Apply Kadane's on temp array\n",
    "            current_max = kadanes_algorithm(temp)\n",
    "            max_sum = max(max_sum, current_max)\n",
    "    \n",
    "    return max_sum"
   ]
  }
 ],
 "metadata": {
  "kernelspec": {
   "display_name": "Python 3 (ipykernel)",
   "language": "python",
   "name": "python3"
  },
  "language_info": {
   "codemirror_mode": {
    "name": "ipython",
    "version": 3
   },
   "file_extension": ".py",
   "mimetype": "text/x-python",
   "name": "python",
   "nbconvert_exporter": "python",
   "pygments_lexer": "ipython3",
   "version": "3.13.5"
  }
 },
 "nbformat": 4,
 "nbformat_minor": 5
}
