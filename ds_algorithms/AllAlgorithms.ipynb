{
 "cells": [
  {
   "cell_type": "markdown",
   "id": "afdfaf03-0d75-45f3-9e1b-152c454ae224",
   "metadata": {},
   "source": [
    "# Searching"
   ]
  },
  {
   "cell_type": "markdown",
   "id": "060c203e-1ad0-4a22-8b5f-1e7f55af97e3",
   "metadata": {
    "jp-MarkdownHeadingCollapsed": true
   },
   "source": [
    "## Linear Search"
   ]
  },
  {
   "cell_type": "markdown",
   "id": "a19108e5-fb0a-4906-89b0-f4abf1e4811d",
   "metadata": {},
   "source": [
    "* we iterate over all the elements of the array and check if it the current element is equal to the target element.\n",
    "* If we find any element to be equal to the target element, then return the index of the current element.\n",
    "* If no element is equal to the target element, then return -1 as the element is not found.\n",
    "* Time Complexity: O(n)\n",
    "* Space Complexity O(1)\n",
    "* Applications:\n",
    "    * Unsorted List\n",
    "    * Small Data Sets\n",
    "    * Searching Linked Lists\n",
    "* When to Use:\n",
    "    * dealing with small dataset\n",
    "    * searching for a dataset stored in contiguous memory"
   ]
  },
  {
   "cell_type": "markdown",
   "id": "53b9e18b-8714-4c08-91d8-fc003fff2ffe",
   "metadata": {
    "jp-MarkdownHeadingCollapsed": true
   },
   "source": [
    "## Binary Search"
   ]
  },
  {
   "cell_type": "markdown",
   "id": "a5a959b7-80ab-406d-ae8e-3ee0ee1fb3c0",
   "metadata": {},
   "source": [
    "* operates on a sorted or monotonic search space\n",
    "* repeatedly dividing it into halves to find a target value or optimal answer\n",
    "* Time Complexity: O(log N)\n",
    "* Implementations:\n",
    "    * Iterative BSA\n",
    "    * Recursive BSA\n",
    "* Applications:\n",
    "    * Searching in sorted arrays\n",
    "    * finding first/last occurance match\n",
    "    * Database indexing\n",
    "    * Debugging in Version Control\n",
    "    * Network Routing and IP Lookup\n",
    "    * File Systems & Libraries\n",
    "    * Gaming/graphics\n",
    "    * Machine Learning tunning - hyperparameter search"
   ]
  },
  {
   "cell_type": "markdown",
   "id": "229d3a67-4153-4b1a-95fb-89342138e9d6",
   "metadata": {},
   "source": [
    "# Sorting"
   ]
  },
  {
   "cell_type": "markdown",
   "id": "37d69074-7649-41c5-8c2f-5567e9608045",
   "metadata": {},
   "source": [
    "# Greedy"
   ]
  },
  {
   "cell_type": "markdown",
   "id": "16fef330-9ec0-4a8e-97e0-f8aca5b7c297",
   "metadata": {},
   "source": [
    "# Graph"
   ]
  },
  {
   "cell_type": "markdown",
   "id": "7d0b9185-3e56-46bd-bdc7-5492502ce440",
   "metadata": {},
   "source": [
    "# Bitwise"
   ]
  },
  {
   "cell_type": "code",
   "execution_count": null,
   "id": "080b65c4-4412-4965-9a49-0da9c8b3c15b",
   "metadata": {},
   "outputs": [],
   "source": []
  }
 ],
 "metadata": {
  "kernelspec": {
   "display_name": "Python 3 (ipykernel)",
   "language": "python",
   "name": "python3"
  },
  "language_info": {
   "codemirror_mode": {
    "name": "ipython",
    "version": 3
   },
   "file_extension": ".py",
   "mimetype": "text/x-python",
   "name": "python",
   "nbconvert_exporter": "python",
   "pygments_lexer": "ipython3",
   "version": "3.13.5"
  }
 },
 "nbformat": 4,
 "nbformat_minor": 5
}
