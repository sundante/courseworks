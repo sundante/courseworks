{
 "cells": [
  {
   "cell_type": "code",
   "execution_count": 17,
   "id": "0b134d3d-b5db-4d36-9d74-d64ffb2bcdd6",
   "metadata": {},
   "outputs": [],
   "source": [
    "def decrementList(arr):\n",
    "    new = [val-1 for val in arr]\n",
    "    return print(*new)"
   ]
  },
  {
   "cell_type": "code",
   "execution_count": 18,
   "id": "e802bf50-08cb-46be-9659-be12af0ff0f1",
   "metadata": {},
   "outputs": [
    {
     "name": "stdout",
     "output_type": "stream",
     "text": [
      "53 42 1 0 4\n"
     ]
    }
   ],
   "source": [
    "arr = [54, 43, 2, 1, 5]\n",
    "decrementList(arr)"
   ]
  },
  {
   "cell_type": "code",
   "execution_count": 14,
   "id": "d54f1d07-cb82-4926-ad73-957e405cf899",
   "metadata": {},
   "outputs": [
    {
     "ename": "TypeError",
     "evalue": "unsupported operand type(s) for -: 'list' and 'int'",
     "output_type": "error",
     "traceback": [
      "\u001b[31m---------------------------------------------------------------------------\u001b[39m",
      "\u001b[31mTypeError\u001b[39m                                 Traceback (most recent call last)",
      "\u001b[36mCell\u001b[39m\u001b[36m \u001b[39m\u001b[32mIn[14]\u001b[39m\u001b[32m, line 1\u001b[39m\n\u001b[32m----> \u001b[39m\u001b[32m1\u001b[39m \u001b[43marr\u001b[49m\u001b[43m \u001b[49m\u001b[43m-\u001b[49m\u001b[43m \u001b[49m\u001b[32;43m1\u001b[39;49m\n",
      "\u001b[31mTypeError\u001b[39m: unsupported operand type(s) for -: 'list' and 'int'"
     ]
    }
   ],
   "source": []
  },
  {
   "cell_type": "code",
   "execution_count": null,
   "id": "eadac2f3-5fed-481b-ac56-2bb80a76de0e",
   "metadata": {},
   "outputs": [],
   "source": []
  }
 ],
 "metadata": {
  "kernelspec": {
   "display_name": "Python 3 (ipykernel)",
   "language": "python",
   "name": "python3"
  },
  "language_info": {
   "codemirror_mode": {
    "name": "ipython",
    "version": 3
   },
   "file_extension": ".py",
   "mimetype": "text/x-python",
   "name": "python",
   "nbconvert_exporter": "python",
   "pygments_lexer": "ipython3",
   "version": "3.13.5"
  }
 },
 "nbformat": 4,
 "nbformat_minor": 5
}
