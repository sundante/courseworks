{
 "cells": [
  {
   "cell_type": "markdown",
   "id": "6257902e-3595-4eed-aff1-a5a39ed0fafc",
   "metadata": {},
   "source": [
    "# Arrays (List)"
   ]
  },
  {
   "cell_type": "markdown",
   "id": "f21b97cb-ce22-4d21-9c3c-7c20feefb99f",
   "metadata": {},
   "source": [
    "## Second Largest Element in an Array"
   ]
  },
  {
   "cell_type": "code",
   "execution_count": 20,
   "id": "6330d999-7cee-405a-a1a1-f9385eabd958",
   "metadata": {},
   "outputs": [],
   "source": [
    "arr = [12, 35, 1, 10, 34, 1]"
   ]
  },
  {
   "cell_type": "markdown",
   "id": "e5dad440-75a3-4814-b364-ade6e3538bac",
   "metadata": {
    "jp-MarkdownHeadingCollapsed": true
   },
   "source": [
    "### Naive Approach\n",
    "* Time Complexity: O(n*log(n)), as sorting the array takes O(n*log(n)) time and traversing the array can take O(n) time in the worst case, so total time complexity = (n*log(n) + n) = O(n*log(n)).\n",
    "* Auxiliary space: O(1), as no extra space is required."
   ]
  },
  {
   "cell_type": "code",
   "execution_count": 25,
   "id": "8e7e3126-a6d6-40b3-94dc-564ba54085b3",
   "metadata": {},
   "outputs": [
    {
     "data": {
      "text/plain": [
       "34"
      ]
     },
     "execution_count": 25,
     "metadata": {},
     "output_type": "execute_result"
    }
   ],
   "source": [
    "def getSecondLargest(arr):\n",
    "    n = len(arr)\n",
    "    # Sort the array in non-decreasing order\n",
    "    arr.sort()\n",
    "    # start from second last element as last element is the largest\n",
    "    for i in range(n-2,-1,-1):\n",
    "        # return the first element which is not equal to the \n",
    "        # largest element\n",
    "        if arr[i] != arr[n - 1]:\n",
    "            return arr[i]\n",
    "    \n",
    "    # If no second largest element was found, return -1\n",
    "    return -1\n",
    "getSecondLargest(arr)"
   ]
  },
  {
   "cell_type": "markdown",
   "id": "b69ba154-44ac-4eb9-b568-609d9e93dc08",
   "metadata": {
    "jp-MarkdownHeadingCollapsed": true
   },
   "source": [
    "### Two Pass Search\n",
    "* The approach is to traverse the array twice. In the first traversal, find the maximum element.\n",
    "* In the second traversal, find the maximum element ignoring the one we found in the first traversal.\n",
    "* Time Complexity: O(2*n) = O(n), as we are traversing the array two times.\n",
    "* Auxiliary space: O(1), as no extra space is required."
   ]
  },
  {
   "cell_type": "code",
   "execution_count": 27,
   "id": "7826f9b9-8850-4b9b-aea6-5b682da40a3c",
   "metadata": {},
   "outputs": [],
   "source": [
    "def getSecondLargest(arr):\n",
    "    n = len(arr)\n",
    "    largest, secondlargest = -1, -1\n",
    "\n",
    "    # Find the largest\n",
    "    for i in range(n):\n",
    "        if arr[i] > largest:\n",
    "            largest = arr[i]\n",
    "\n",
    "    # Find the second largest\n",
    "    for i in range(n):\n",
    "        if arr[i] != largest and arr[i] > secondlargest:\n",
    "            secondlargest = arr[i]\n",
    "\n",
    "    return secondlargest"
   ]
  },
  {
   "cell_type": "markdown",
   "id": "3779e09d-8ff9-4b23-9cf1-62989da2add0",
   "metadata": {},
   "source": [
    "### One Pass \n",
    "* The idea is to keep track of the largest and second largest element while traversing the array\n",
    "* Time Complexity: O(n), as we are traversing the array only once.\n",
    "* Auxiliary space: O(1)"
   ]
  },
  {
   "cell_type": "code",
   "execution_count": null,
   "id": "a0c4e643-5efe-46a0-8cda-0f423df3d5e5",
   "metadata": {},
   "outputs": [],
   "source": [
    "def getSecondLargest(arr):\n",
    "    n = len(arr)\n",
    "    largest, secondlargest = -1, -1\n",
    "\n",
    "    for i in range(n):\n",
    "        # If arr[i] > largest, update second largest with\n",
    "        # largest and largest with arr[i]\n",
    "        if arr[i] > largest:\n",
    "            secondLargest = largest\n",
    "            largest = arr[i]\n",
    "      \n",
    "        # If arr[i] < largest and arr[i] > second largest, \n",
    "        # update second largest with arr[i]\n",
    "        elif arr[i] < largest and arr[i] > secondLargest:\n",
    "            secondLargest = arr[i]\n",
    "    \n",
    "    return secondLargest"
   ]
  },
  {
   "cell_type": "markdown",
   "id": "e6330a03-35d0-47c2-9ff1-6647ed1d4598",
   "metadata": {},
   "source": [
    "# Temp"
   ]
  },
  {
   "cell_type": "code",
   "execution_count": 32,
   "id": "031e239a-8372-4dd8-8616-c81c8234d896",
   "metadata": {},
   "outputs": [],
   "source": [
    "arr = [12, 35, 1, 10, 34, 1]"
   ]
  },
  {
   "cell_type": "code",
   "execution_count": null,
   "id": "ede0f990-6c16-4d1e-a184-8a91a5690fc8",
   "metadata": {},
   "outputs": [],
   "source": []
  },
  {
   "cell_type": "code",
   "execution_count": null,
   "id": "7714af63-896d-4973-b504-dffb419db4b2",
   "metadata": {},
   "outputs": [],
   "source": []
  }
 ],
 "metadata": {
  "kernelspec": {
   "display_name": "Python 3 (ipykernel)",
   "language": "python",
   "name": "python3"
  },
  "language_info": {
   "codemirror_mode": {
    "name": "ipython",
    "version": 3
   },
   "file_extension": ".py",
   "mimetype": "text/x-python",
   "name": "python",
   "nbconvert_exporter": "python",
   "pygments_lexer": "ipython3",
   "version": "3.13.5"
  }
 },
 "nbformat": 4,
 "nbformat_minor": 5
}
