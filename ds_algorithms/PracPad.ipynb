{
 "cells": [
  {
   "cell_type": "code",
   "execution_count": 25,
   "id": "8e7e3126-a6d6-40b3-94dc-564ba54085b3",
   "metadata": {},
   "outputs": [
    {
     "data": {
      "text/plain": [
       "34"
      ]
     },
     "execution_count": 25,
     "metadata": {},
     "output_type": "execute_result"
    }
   ],
   "source": [
    "def getSecondLargest(arr):\n",
    "    n = len(arr)\n",
    "    # Sort the array in non-decreasing order\n",
    "    arr.sort()\n",
    "    # start from second last element as last element is the largest\n",
    "    for i in range(n-2,-1,-1):\n",
    "        # return the first element which is not equal to the \n",
    "        # largest element\n",
    "        if arr[i] != arr[n - 1]:\n",
    "            return arr[i]\n",
    "    \n",
    "    # If no second largest element was found, return -1\n",
    "    return -1\n",
    "getSecondLargest(arr)"
   ]
  },
  {
   "cell_type": "code",
   "execution_count": 27,
   "id": "7826f9b9-8850-4b9b-aea6-5b682da40a3c",
   "metadata": {},
   "outputs": [],
   "source": [
    "def getSecondLargest(arr):\n",
    "    n = len(arr)\n",
    "    largest, secondlargest = -1, -1\n",
    "\n",
    "    # Find the largest\n",
    "    for i in range(n):\n",
    "        if arr[i] > largest:\n",
    "            largest = arr[i]\n",
    "\n",
    "    # Find the second largest\n",
    "    for i in range(n):\n",
    "        if arr[i] != largest and arr[i] > secondlargest:\n",
    "            secondlargest = arr[i]\n",
    "\n",
    "    return secondlargest"
   ]
  },
  {
   "cell_type": "code",
   "execution_count": 46,
   "id": "62bf6b34-ada1-4dc4-88f2-a2344109d7db",
   "metadata": {},
   "outputs": [],
   "source": [
    "# arr = [1, 3, 5, 5, 5, 5, 67, 123, 125]\n",
    "arr = [1, 3, 5, 5, 5, 5, 7, 123, 125 ]\n",
    "x = 7"
   ]
  },
  {
   "cell_type": "code",
   "execution_count": 47,
   "id": "442fbc36-b7cb-4719-b67b-b2c84eecb090",
   "metadata": {},
   "outputs": [],
   "source": [
    "def find(arr, x):\n",
    "    first, last = -1, -1\n",
    "    \n",
    "    for i in range(len(arr)):\n",
    "        if arr[i] == x:\n",
    "            first = i\n",
    "            break\n",
    "\n",
    "    for j in range(len(arr)-1, -1, -1):\n",
    "        if arr[j] == x:\n",
    "            last = j\n",
    "            break\n",
    "\n",
    "    return [first, last]"
   ]
  },
  {
   "cell_type": "code",
   "execution_count": 48,
   "id": "693a9053-b1af-4ff1-8c9c-98df287e0eab",
   "metadata": {},
   "outputs": [
    {
     "data": {
      "text/plain": [
       "[6, 6]"
      ]
     },
     "execution_count": 48,
     "metadata": {},
     "output_type": "execute_result"
    }
   ],
   "source": [
    "find(arr, x)"
   ]
  },
  {
   "cell_type": "code",
   "execution_count": null,
   "id": "7412c8a4-1ce6-4b5a-bc8a-be833ea10f49",
   "metadata": {},
   "outputs": [],
   "source": []
  }
 ],
 "metadata": {
  "kernelspec": {
   "display_name": "Python 3 (ipykernel)",
   "language": "python",
   "name": "python3"
  },
  "language_info": {
   "codemirror_mode": {
    "name": "ipython",
    "version": 3
   },
   "file_extension": ".py",
   "mimetype": "text/x-python",
   "name": "python",
   "nbconvert_exporter": "python",
   "pygments_lexer": "ipython3",
   "version": "3.13.5"
  }
 },
 "nbformat": 4,
 "nbformat_minor": 5
}
