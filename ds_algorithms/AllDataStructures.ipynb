{
 "cells": [
  {
   "cell_type": "markdown",
   "id": "75d5a9ef-0ca7-49c1-8f2d-2da846c67461",
   "metadata": {},
   "source": [
    "# References\n",
    "* <a href=\"https://www.geeksforgeeks.org/dsa/dsa-tutorial-learn-data-structures-and-algorithms\"> DSA Tutorial - Learn Data Structures and Algorithms</a>\n",
    "* <a href=\"https://algomaster.io/practice/dsa-patterns\"> AlgoMaster - Master DSA Patterns</a>\n",
    "* <a href=\"https://www.geeksforgeeks.org/dsa/geeksforgeeks-practice-best-online-coding-platform/\">GeeksforGeeks Practice - Leading Online Coding Platform</a>\n",
    "* <a href=\"https://docs.python.org/3/library/functions.html\">Python Built-in Functions</a>"
   ]
  },
  {
   "cell_type": "markdown",
   "id": "de10c3ba-4459-4b45-81ca-6860683cd444",
   "metadata": {},
   "source": [
    "# Courses\n",
    "* <a href=\"https://www.geeksforgeeks.org/courses/gfg-160-series\">GFG 160 - 160 Days of Problem Solving</a>\n",
    "* <a href=\"https://www.geeksforgeeks.org/batch/skill-up-dsa?tab=Chapters\">DSA360</a>"
   ]
  },
  {
   "cell_type": "markdown",
   "id": "4bb836d0-9ff4-41b5-bf5c-c662f2abe559",
   "metadata": {
    "jp-MarkdownHeadingCollapsed": true
   },
   "source": [
    "# Python Built-in Functions"
   ]
  },
  {
   "cell_type": "markdown",
   "id": "f48e93e5-89d4-4d1b-aa3c-bd5a74acb4aa",
   "metadata": {},
   "source": [
    "* abs()           Returns the absolute value of a number\n",
    "* all()           Returns True if all items in an iterable object are true\n",
    "* any()           Returns True if any item in an iterable object is true\n",
    "* ascii()         Returns a readable version of an object. Replaces none-ascii characters with escape character\n",
    "* bin()           Returns the binary version of a number\n",
    "* bool()          Returns the boolean value of the specified object\n",
    "* bytearray()\t    Returns an array of bytes\n",
    "* bytes()         Returns a bytes object\n",
    "* callable()\t    Returns True if the specified object is callable, otherwise False\n",
    "* chr()\t        Returns a character from the specified Unicode code.\n",
    "* classmethod()\tConverts a method into a class method\n",
    "* compile()\t    Returns the specified source as an object, ready to be executed\n",
    "* complex()\t    Returns a complex number\n",
    "* delattr()\t    Deletes the specified attribute (property or method) from the specified object\n",
    "* dict()\t        Returns a dictionary (Array)\n",
    "* dir()\t        Returns a list of the specified object's properties and methods\n",
    "* divmod()\t    Returns the quotient and the remainder when argument1 is divided by argument2\n",
    "* enumerate()\t    Takes a collection (e.g. a tuple) and returns it as an enumerate object\n",
    "* eval()\t        Evaluates and executes an expression\n",
    "* exec()\t        Executes the specified code (or object)\n",
    "* filter()\t    Use a filter function to exclude items in an iterable object\n",
    "* float()\t        Returns a floating point number\n",
    "* format()\t    Formats a specified value\n",
    "* frozenset()\t    Returns a frozenset object\n",
    "* getattr()\t    Returns the value of the specified attribute (property or method)\n",
    "* globals()\t    Returns the current global symbol table as a dictionary\n",
    "* hasattr()\t    Returns True if the specified object has the specified attribute (property/method)\n",
    "* hash()\t        Returns the hash value of a specified object\n",
    "* help()\t        Executes the built-in help system\n",
    "* hex()\t        Converts a number into a hexadecimal value\n",
    "* id()\t        Returns the id of an object\n",
    "* input()\t        Allowing user input\n",
    "* int()\t        Returns an integer number\n",
    "* isinstance()\tReturns True if a specified object is an instance of a specified object\n",
    "* issubclass()\tReturns True if a specified class is a subclass of a specified object\n",
    "* iter()\t        Returns an iterator object\n",
    "* len()\t        Returns the length of an object\n",
    "* list()\t        Returns a list\n",
    "* locals()\t    Returns an updated dictionary of the current local symbol table\n",
    "* map()\t        Returns the specified iterator with the specified function applied to each item\n",
    "* max()\t        Returns the largest item in an iterable\n",
    "* memoryview()\tReturns a memory view object\n",
    "* min()\t        Returns the smallest item in an iterable\n",
    "* next()\t        Returns the next item in an iterable\n",
    "* object()\t    Returns a new object\n",
    "* oct()\t        Converts a number into an octal\n",
    "* open()\t        Opens a file and returns a file object\n",
    "* ord()\t        Convert an integer representing the Unicode of the specified character\n",
    "* pow()\t        Returns the value of x to the power of y\n",
    "* print()\t        Prints to the standard output device\n",
    "* property()\t    Gets, sets, deletes a property\n",
    "* range()\t        Returns a sequence of numbers, starting from 0 and increments by 1 (by default)\n",
    "* repr()\t        Returns a readable version of an object\n",
    "* reversed()\t    Returns a reversed iterator\n",
    "* round()\t        Rounds a numbers\n",
    "* set()\t        Returns a new set object\n",
    "* setattr()\t    Sets an attribute (property/method) of an object\n",
    "* slice()\t        Returns a slice object\n",
    "* sorted()\t    Returns a sorted list\n",
    "* staticmethod()\tConverts a method into a static method\n",
    "* str()\t        Returns a string object\n",
    "* sum()\t        Sums the items of an iterator\n",
    "* super()\t        Returns an object that represents the parent class\n",
    "* tuple()\t        Returns a tuple\n",
    "* type()\t        Returns the type of an object\n",
    "* vars()\t        Returns the __dict__ property of an object\n",
    "* zip()\t        Returns an iterator, from two or more iterators"
   ]
  },
  {
   "cell_type": "markdown",
   "id": "42f94eae-f8da-4e67-9e22-38f4ab81a35b",
   "metadata": {
    "jp-MarkdownHeadingCollapsed": true
   },
   "source": [
    "# Python Data Types"
   ]
  },
  {
   "cell_type": "markdown",
   "id": "94b28188-6222-4bcd-ac00-86cf92b8e1c3",
   "metadata": {
    "jp-MarkdownHeadingCollapsed": true
   },
   "source": [
    "> Numeric Types:\n",
    "* int\n",
    "* float\n",
    "* complex\n",
    "\n",
    "> Boolean Type:\n",
    "* bool\n",
    "\n",
    "> Iterator Types:\n",
    "\n",
    "> Sequence Types:\n",
    "* list\n",
    "* tuple\n",
    "* range\n",
    "\n",
    "> Set Types:\n",
    "* set\n",
    "* frozenset\n",
    "\n",
    "> Mapping Types:\n",
    "* dictionary\n",
    "\n",
    "> Collections:\n",
    "* ChainMap\n",
    "* Counter\n",
    "* OrderedDict\n",
    "* UserDict\n",
    "* UserList\n",
    "* UserString\n",
    "* defaultdict\n",
    "* deque\n",
    "* namedtuple"
   ]
  },
  {
   "cell_type": "markdown",
   "id": "98eafaf3-2f4c-4f01-b24b-4955660f350f",
   "metadata": {
    "jp-MarkdownHeadingCollapsed": true
   },
   "source": [
    "# Python Collections Package"
   ]
  },
  {
   "cell_type": "markdown",
   "id": "93d7ef50-6bec-4171-ab68-9ae87d959bca",
   "metadata": {
    "jp-MarkdownHeadingCollapsed": true
   },
   "source": [
    "## Counter"
   ]
  },
  {
   "cell_type": "markdown",
   "id": "a410150b-9f74-4a95-a6db-cf0e165b24c8",
   "metadata": {},
   "source": [
    "* a sub-class of dictionary\n",
    "* used to keep the count of the elements in an iterable in the form of an unordered dictionary\n",
    "* called in one of the following ways:\n",
    "    * With a sequence of items\n",
    "    * With a dictionary containing keys and counts\n",
    "    * With keyword arguments mapping string names to counts"
   ]
  },
  {
   "cell_type": "code",
   "execution_count": null,
   "id": "14238d41-7ad3-43ea-a22f-4c814120cee9",
   "metadata": {},
   "outputs": [],
   "source": [
    "from collections import Counter \n",
    "  \n",
    "# Creating Counter from a list (sequence of items)  \n",
    "print(Counter(['B','B','A','B','C','A','B','B','A','C']))\n",
    "  \n",
    "# Creating Counter from a dictionary\n",
    "print(Counter({'A':3, 'B':5, 'C':2}))\n",
    "  \n",
    "# Creating Counter using keyword arguments\n",
    "print(Counter(A=3, B=5, C=2))"
   ]
  },
  {
   "cell_type": "markdown",
   "id": "adab29be-667a-47d0-989b-978a7401b45e",
   "metadata": {
    "jp-MarkdownHeadingCollapsed": true
   },
   "source": [
    "## OrderedDict"
   ]
  },
  {
   "cell_type": "markdown",
   "id": "097abf1a-9274-48e4-80cb-c3895de88435",
   "metadata": {},
   "source": [
    "* a dictionary that preserves the order in which keys are inserted\n",
    "* checks both content and order for equality, so differing orders make them unequal.\n",
    "* provides extra powerful features, such as:\n",
    "    * Reordering keys dynamically with move_to_end() (useful for FIFO/LIFO access).\n",
    "    * Popping items from either end with popitem(last=True/False).\n",
    "    * Order-sensitive equality checks (two OrderedDicts with same items but different order are not equal).\n",
    "    * Easy implementation of data structures like queues, stacks, or LRU caches.\n",
    "\n",
    "* in OrderedDict:\n",
    "    * there no reverse function, rather need to user Python's reversed(list(od.items()))\n",
    "    * popitem() can remove either the last item (last=True, default) or the first item (last=False)\n",
    "    * move_to_end() can move keys to the front or back.\n",
    "    * Deleting and re-inserting a key in an OrderedDict moves it to the end, preserving insertion order"
   ]
  },
  {
   "cell_type": "code",
   "execution_count": null,
   "id": "d629bd37-2a9b-416e-8d85-23f2c5d44864",
   "metadata": {},
   "outputs": [],
   "source": [
    "from collections import OrderedDict\n",
    "\n",
    "d1 = OrderedDict([('a', 1), ('b', 2), ('c', 3)])\n",
    "\n",
    "# Reversing\n",
    "d2 = OrderedDict(reversed(list(d1.items())))\n",
    "\n",
    "# move_to_end\n",
    "d2.move_to_end('a')         # Move 'a' to end\n",
    "d2.move_to_end('b', last=False)  # Move 'b' to front"
   ]
  },
  {
   "cell_type": "markdown",
   "id": "5b1d6f00-1c81-4f6f-9628-928f5146e19d",
   "metadata": {
    "jp-MarkdownHeadingCollapsed": true
   },
   "source": [
    "## DefaultDict"
   ]
  },
  {
   "cell_type": "markdown",
   "id": "0237b5e3-af4d-4a2d-9943-9f8a9e78214b",
   "metadata": {},
   "source": [
    "* automatically assigns a default value to keys that do not exist\n",
    "* means you don’t have to manually check for missing keys and avoid KeyError.\n",
    "    * If the key exists: its value is returned.\n",
    "    * If the key does not exist: default_factory is called to generate a default value.\n",
    "* Default Factory:\n",
    "    * List\n",
    "    * Int\n",
    "    * Str\n",
    "\n",
    "* solves this by:\n",
    "    * Automatically creating missing keys with a default value.\n",
    "    * Reducing repetitive if key not in dict checks.\n",
    "    * Making tasks like counting, grouping, or collecting items easier.\n",
    "    * Being especially useful for histograms, graph building, text grouping, and caching.\n",
    "\n",
    "* Behind the scenes, defaultdict uses the special __missing__() method:\n",
    "    * It is automatically called when a key is not found.\n",
    "    * If a default_factory is provided: its return value is used.\n",
    "    * If default_factory is None: a KeyError is raised."
   ]
  },
  {
   "cell_type": "code",
   "execution_count": null,
   "id": "51f3ee83-e428-4da5-808d-6b9dfca69bde",
   "metadata": {},
   "outputs": [],
   "source": [
    "from collections import defaultdict\n",
    "d = defaultdict(list)\n",
    "\n",
    "# Grouping Words by First Letter\n",
    "words = [\"apple\", \"ant\", \"banana\", \"bat\", \"carrot\", \"cat\"]\n",
    "grouped = defaultdict(list)\n",
    "for word in words:\n",
    "    grouped[word[0]].append(word)\n",
    "# defaultdict(<class 'list'>, {'a': ['apple', 'ant'], 'b': ['banana', 'bat'], 'c': ['carrot', 'cat']})"
   ]
  },
  {
   "cell_type": "markdown",
   "id": "9c88af14-e65a-4dfd-9976-b4c922c8a895",
   "metadata": {
    "jp-MarkdownHeadingCollapsed": true
   },
   "source": [
    "## ChainMap"
   ]
  },
  {
   "cell_type": "markdown",
   "id": "0f8be1ed-45b6-4083-8368-8f243c6c8fcf",
   "metadata": {},
   "source": [
    "* encapsulates many dictionaries into one unit\n",
    "* Operations:\n",
    "    * Access:\n",
    "        * keys() :- This function is used to display all the keys of all the dictionaries in ChainMap.\n",
    "        * values() :- This function is used to display values of all the dictionaries in ChainMap.\n",
    "        * maps() :- This function is used to display keys with corresponding values of all the dictionaries in ChainMap.\n",
    "    * Manipulation:\n",
    "        * new_child() :- This function adds a new dictionary in the beginning of the ChainMap.\n",
    "        * reversed() :- This function reverses the relative ordering of dictionaries in the ChainMap.\n",
    "\n",
    "\n",
    "\n",
    " \n"
   ]
  },
  {
   "cell_type": "code",
   "execution_count": null,
   "id": "f6d67029-485b-4f33-95f5-e56edda87d13",
   "metadata": {},
   "outputs": [],
   "source": [
    "from collections import ChainMap  \n",
    "     \n",
    "d1 = {'a': 1, 'b': 2} \n",
    "d2 = {'c': 3, 'd': 4} \n",
    "d3 = {'e': 5, 'f': 6} \n",
    "  \n",
    "# Defining the chainmap  \n",
    "c = ChainMap(d1, d2, d3) \n",
    "# ChainMap({'a': 1, 'b': 2}, {'c': 3, 'd': 4}, {'e': 5, 'f': 6})"
   ]
  },
  {
   "cell_type": "markdown",
   "id": "1489556d-2a2f-4ce7-82d7-daf3d5057385",
   "metadata": {
    "jp-MarkdownHeadingCollapsed": true
   },
   "source": [
    "## NamedTuple"
   ]
  },
  {
   "cell_type": "markdown",
   "id": "dd0c80fa-8e12-4362-bdd7-9cd2551cec8f",
   "metadata": {},
   "source": [
    "* provides a way to create simple, lightweight data structures similar to a class, but without the overhead of defining a full class\n",
    "* namedtuple(typename, field_names)\n",
    "    * typename - The name of the namedtuple.\n",
    "    * field_names - The list of attributes stored in the namedtuple.\n",
    "\n",
    "* Operations:\n",
    "    * Create\n",
    "    * Access:\n",
    "        * Access by index\n",
    "        * Access by keyname\n",
    "        * Access Using getattr()\n",
    "    * Conversion\n",
    "        * _make()\n",
    "        * _asdict()\n",
    "        * \\**\n",
    "    * Additional\n",
    "        * _fields: to get all the keynames of the namespace declared\n",
    "        * _replace(): is like str.replace() but targets named fields( does not modify the original values)\n",
    "        * \\_\\_new__(): returns a new instance of the Student class\n",
    "        * \\_\\_getnewargs__(): returns the named tuple as a plain tuple"
   ]
  },
  {
   "cell_type": "code",
   "execution_count": null,
   "id": "08f6dbdc-d91e-45d4-a4f2-f7d743e5fed4",
   "metadata": {},
   "outputs": [],
   "source": [
    "# Python code to demonstrate namedtuple()\n",
    "from collections import namedtuple\n",
    "\n",
    "# Declaring namedtuple()\n",
    "Student = namedtuple('Student', ['name', 'age', 'DOB'])\n",
    "\n",
    "# Adding values\n",
    "S = Student('Nandini', '19', '2541997')\n",
    "\n",
    "# Accessing Values\n",
    "print(S[1])\n",
    "print(S.name)\n",
    "print(getattr(S, 'DOB'))\n",
    "\n",
    "# Conversions:\n",
    "li = ['Manjeet', '19', '411997']\n",
    "di = {'name': \"Nikhil\", 'age': 19, 'DOB': '1391997\n",
    "print(Student._make(li))\n",
    "print(S._asdict())\n",
    "print(Student(**di))\n",
    "\n",
    "# additional\n",
    "print(S._fields)\n",
    "print(S._replace(name='Manjeet'))\n",
    "print(Student.__new__(Student,'Himesh','19','26082003'))\n",
    "print(S.__getnewargs__())"
   ]
  },
  {
   "cell_type": "markdown",
   "id": "7560f7ee-1c4d-4dff-953c-9de0a6d80a27",
   "metadata": {
    "jp-MarkdownHeadingCollapsed": true
   },
   "source": [
    "## Deque (Double-ended Queue)"
   ]
  },
  {
   "cell_type": "markdown",
   "id": "0f326313-6c2c-4c87-aa62-54c56e52c288",
   "metadata": {},
   "source": [
    "* a special type of data structure that allows you to add and remove elements from both ends efficiently\n",
    "* a deque supports both FIFO and LIFO operations\n",
    "\n",
    "* Applications:\n",
    "    * It supports O(1) time for adding/removing elements from both ends.\n",
    "    * It is more efficient than lists for front-end operations.\n",
    "    * It can function as both a queue (FIFO) and a stack (LIFO).\n",
    "    * Ideal for scheduling, sliding window problems and real-time data processing.\n",
    "    * It offers powerful built-in methods like appendleft(), popleft() and rotate().\n",
    "\n",
    "* Appending and Deleting:\n",
    "    * append(x): Adds x to the right end of the deque.\n",
    "    * appendleft(x): Adds x to the left end of the deque.\n",
    "    * extend(iterable): Adds all elements from the iterable to the right end.\n",
    "    * extendleft(iterable): Adds all elements from the iterable to the left end (in reverse order).\n",
    "    * remove(value): Removes the first occurrence of the specified value from the deque. If value is not found, it raises a ValueError.\n",
    "    * pop(): Removes and returns an element from the right end.\n",
    "    * popleft(): Removes and returns an element from the left end.\n",
    "    * clear(): Removes all elements from the deque.\n",
    "    * count(value): This method counts the number of occurrences of a specific element in the deque.\n",
    "    * rotate(n): This method rotates the deque by n steps. Positive n rotates to the right and negative n rotates to the left.\n",
    "    * reverse(): This method reverses the order of elements in the deque."
   ]
  },
  {
   "cell_type": "code",
   "execution_count": null,
   "id": "6f1e1006-f052-42cc-80a3-e4a52a5aefe6",
   "metadata": {},
   "outputs": [],
   "source": []
  },
  {
   "cell_type": "markdown",
   "id": "5dbbb3ed-0706-49ec-ac2f-bd60b1c822db",
   "metadata": {
    "jp-MarkdownHeadingCollapsed": true
   },
   "source": [
    "# Iterable"
   ]
  },
  {
   "cell_type": "markdown",
   "id": "d65411dc-bf1d-4942-8b8c-5ee4525ed540",
   "metadata": {},
   "source": [
    "* An object capable of returning its members one at a time.\n",
    "* all sequence types (such as list, str, and tuple)\n",
    "* some non-sequence types like dict, file objects\n",
    "* objects of any classes you define with an __iter__() method or with a __getitem__() method that implements sequence semantics.\n",
    "* Iterables can be used in a for loop and in many other places where a sequence is needed (zip(), map(), …)."
   ]
  },
  {
   "cell_type": "markdown",
   "id": "575e1094-4ea7-4535-a09e-8baee954a687",
   "metadata": {
    "jp-MarkdownHeadingCollapsed": true
   },
   "source": [
    "# Iterator"
   ]
  },
  {
   "cell_type": "markdown",
   "id": "ad415a9b-1416-42e9-b00b-f69b34866e4b",
   "metadata": {},
   "source": [
    "* An object representing a stream of data.\n",
    "* a concept of iteration over containers.\n",
    "* This is implemented using two distinct methods; these are used to allow user-defined classes to support iteration.\n",
    "* Iterators are required to have an __iter__() method that returns the iterator object itself\n",
    "* Repeated calls to the iterator’s __next__() method (or passing it to the built-in function next()) return successive items in the stream."
   ]
  },
  {
   "cell_type": "markdown",
   "id": "2f6d2661-7e41-4cce-84e3-14c3e25821b2",
   "metadata": {
    "jp-MarkdownHeadingCollapsed": true
   },
   "source": [
    "# Hashable"
   ]
  },
  {
   "cell_type": "markdown",
   "id": "7d92dc8b-83ca-4d30-87d3-05a8a402b2cf",
   "metadata": {},
   "source": [
    "* An object is hashable if it has a hash value which never changes during its lifetime (it needs a __hash__() method), and can be compared to other objects (it needs an __eq__() method).\n",
    "* Hashable objects which compare equal must have the same hash value.\n",
    "* Hashability makes an object usable as a dictionary key and a set member, because these data structures use the hash value internally.\n",
    "* Most of Python’s immutable built-in objects are hashable;\n",
    "* Objects which are instances of user-defined classes are hashable by default.\n",
    "* They all compare unequal (except with themselves), and their hash value is derived from their id().\n",
    "---------------------\n",
    "* Load Factor Monitoring: The dict keeps track of its \"load factor,\" which is the ratio of the number of items stored to the total capacity of the hash table.\n",
    "* Expansion (Growth): When the load factor exceeds a certain threshold (e.g., around 2/3 or 70%), the dict determines that it's becoming too full and collisions are likely to increase, degrading performance. To address this, it initiates a resizing operation: A new, larger array (typically double the current size) is allocated. All existing key-value pairs from the old table are rehashed using the new table's size and inserted into the new table. This is necessary because the hash index for a given key depends on the table's size. The old table is then deallocated.\n",
    "* Contraction (Shrinking): While less frequent, some dict implementations might also shrink the hash table if many items are deleted and the load factor falls significantly below a certain threshold. This helps to conserve memory."
   ]
  },
  {
   "cell_type": "markdown",
   "id": "4e8e038f-9a53-46a0-b7c7-1ea1b15dec9a",
   "metadata": {
    "jp-MarkdownHeadingCollapsed": true
   },
   "source": [
    "# String"
   ]
  },
  {
   "cell_type": "code",
   "execution_count": null,
   "id": "5015f89e-647e-4bbd-8b3d-b2ab7d31cf1d",
   "metadata": {},
   "outputs": [],
   "source": []
  },
  {
   "cell_type": "markdown",
   "id": "70ed7263-5158-48fb-b9ab-814415628b25",
   "metadata": {},
   "source": [
    "# List"
   ]
  },
  {
   "cell_type": "markdown",
   "id": "ddea65e3-0fea-47d0-906f-5089ad8a4f93",
   "metadata": {},
   "source": [
    "* a list doesn’t store actual values directly. Instead, it stores references (pointers) to objects in memory.\n",
    "* Can contain duplicate items\n",
    "* Mutable: items can be modified, replaced, or removed\n",
    "* Ordered: maintains the order in which items are added\n",
    "* Index-based: items are accessed using their position (starting from 0)\n",
    "* Can store mixed data types (integers, strings, booleans, even other lists)\n",
    "\n",
    "---------------\n",
    "* list_name.append(): Adds an element to the end of the list.\n",
    "* list_name.copy(): Returns a shallow copy of the list.\n",
    "* list_name.clear(): Removes all elements from the list.\n",
    "* list_name.count(): Returns the number of times a specified element appears in the list.\n",
    "* list_name.extend(): Adds elements from another list to the end of the current list.\n",
    "* list_name.index(): Returns the index of the first occurrence of a specified element.\n",
    "* list_name.insert(): Inserts an element at a specified position.\n",
    "* list_name.pop(): Removes and returns the element at the specified position (or the last element if no index is specified).\n",
    "* list_name.remove(): Removes the first occurrence of a specified element.\n",
    "* list_name.reverse(): Reverses the order of the elements in the list.\n",
    "* list_name.sort(): Sorts the list in ascending order (by default).\n",
    "\n",
    "\n",
    "----------------\n",
    "* List comprehension is a concise way to create lists using a single line of code."
   ]
  },
  {
   "cell_type": "code",
   "execution_count": 5,
   "id": "862d925d-4444-49ba-9102-d9af018d2f30",
   "metadata": {},
   "outputs": [],
   "source": [
    "a = [1, 2, 3, 4, 5] # List of integers\n",
    "b = ['apple', 'banana', 'cherry'] # List of strings\n",
    "c = [1, 'hello', 3.14, True] # Mixed data types"
   ]
  },
  {
   "cell_type": "code",
   "execution_count": null,
   "id": "2c9d1a2e-76ab-44d8-a7aa-11e7f867bb05",
   "metadata": {},
   "outputs": [],
   "source": [
    "a.append(10)                    # returns None, appends \n",
    "ac = a.copy()                   # returns the copy of list\n",
    "a.clear()                       # returns None, clears list\n",
    "a.count(2)                      # returns count of occurences of the element\n",
    "a.extend([3, 4])                # returns None, adds the next values\n",
    "a.index(item, occurance=1)        # returns the index of first occurance\n",
    "a.insert(1, 2)                  # returns None, inserts an element at a specific position\n",
    "a.pop(index=-1)                 # returns the last element or element at index provided, removes element from list\n",
    "a.remove(item)                  # returns None, removes the first occurance of value\n",
    "b.reverse()                     # returns None, reverses the list\n",
    "a.sort()                        # returns None, sorts the list\n",
    "              \n",
    "b[::-1]                         # reverses and returns the reversed List"
   ]
  },
  {
   "cell_type": "markdown",
   "id": "6c142755-636b-4668-9f99-8ebd8e21bf98",
   "metadata": {
    "jp-MarkdownHeadingCollapsed": true
   },
   "source": [
    "# Nested Lists"
   ]
  },
  {
   "cell_type": "code",
   "execution_count": null,
   "id": "1e9183a8-3231-4e84-b551-d0af17501163",
   "metadata": {},
   "outputs": [],
   "source": []
  },
  {
   "cell_type": "markdown",
   "id": "2b8d7121-1f70-46d0-b3a3-bdccdc57059e",
   "metadata": {
    "jp-MarkdownHeadingCollapsed": true
   },
   "source": [
    "# Tuple "
   ]
  },
  {
   "cell_type": "markdown",
   "id": "fdd67270-71d7-4d55-8ff5-60abeb0b353b",
   "metadata": {},
   "source": [
    "* main characteristics of tuples are being:\n",
    "    *  ordered\n",
    "    *  heterogeneous\n",
    "    *  immutable."
   ]
  },
  {
   "cell_type": "code",
   "execution_count": null,
   "id": "e0252237-01d9-4728-a477-c3bc6e8350e8",
   "metadata": {},
   "outputs": [],
   "source": [
    "tup = ('Geeks', 'For')\n",
    "print(tup)\n",
    "li = [1, 2, 4, 5, 6]\n",
    "print(tuple(li))\n",
    "tup = tuple('Geeks')\n",
    "print(tup)\n",
    "tup = (5, 'Welcome', 7, 'Geeks')\n",
    "print(tup)"
   ]
  },
  {
   "cell_type": "code",
   "execution_count": null,
   "id": "11d4dd49-85bb-4e4b-bd26-3ec2005aade4",
   "metadata": {},
   "outputs": [],
   "source": [
    "# Tupple Unpacking with *\n",
    "tup = (1, 2, 3, 4, 5)\n",
    "a, *b, c = tup\n",
    "print(a) \n",
    "print(b) \n",
    "print(c)"
   ]
  },
  {
   "cell_type": "markdown",
   "id": "1dedf88d-bddf-4aa4-af97-a71d045ac8f6",
   "metadata": {
    "jp-MarkdownHeadingCollapsed": true
   },
   "source": [
    "# Set"
   ]
  },
  {
   "cell_type": "markdown",
   "id": "fcd545a4-178a-4aa1-b54c-cf400790d8da",
   "metadata": {},
   "source": [
    "* collection of multiple items having different\n",
    "    * mutable\n",
    "    * unindexed\n",
    "    * do not contain duplicates\n",
    "* Can store None values.\n",
    "* Implemented using hash tables internally.\n",
    "* Do not implement interfaces like Serializable or Cloneable.\n",
    "* Python sets are not inherently thread-safe\n",
    "\n",
    "---------------\n",
    "* remove() method removes a specified element from the set\n",
    "* pop() method removes and returns an arbitrary element from the set"
   ]
  },
  {
   "cell_type": "code",
   "execution_count": null,
   "id": "e049ef8a-e719-471a-aa9b-db2b1eda8875",
   "metadata": {},
   "outputs": [],
   "source": [
    "set1 = {1, 2, 3, 4}\n",
    "print(set1)\n",
    "\n",
    "set1 = set(\"GeeksForGeeks\")\n",
    "print(set1)\n",
    "\n",
    "# Creating a Set with the use of a List\n",
    "set1 = set([\"Geeks\", \"For\", \"Geeks\"])\n",
    "print(set1)"
   ]
  },
  {
   "cell_type": "markdown",
   "id": "ee74519e-b356-45c2-9b64-5da9a1401cb7",
   "metadata": {
    "jp-MarkdownHeadingCollapsed": true
   },
   "source": [
    "# Frozen Set"
   ]
  },
  {
   "cell_type": "markdown",
   "id": "6be5cba6-ae15-4ccb-9d64-20bc79b9168b",
   "metadata": {},
   "source": [
    "* a built-in data type that is similar to a set but with one key difference that is immutability\n",
    "* cannot contain duplicate elements"
   ]
  },
  {
   "cell_type": "code",
   "execution_count": null,
   "id": "cc387343-8173-4597-a4e5-cdf18e009303",
   "metadata": {},
   "outputs": [],
   "source": []
  },
  {
   "cell_type": "markdown",
   "id": "efc8064f-e8f7-4cae-94dd-2d25210ed946",
   "metadata": {
    "jp-MarkdownHeadingCollapsed": true
   },
   "source": [
    "# Stacks"
   ]
  },
  {
   "cell_type": "markdown",
   "id": "24a12ce8-b599-4d06-91fd-47773c1c5a79",
   "metadata": {},
   "source": [
    "* is a linear data structure that follows the Last-In/First-Out (LIFO) principle, also known as First-In/Last-Out (FILO)\n",
    "* the last element added is the first one to be removed\n",
    "* both insertion and deletion happen at the same end, which is called the top of the stack.\n",
    "* Python does not have a built-in stack type\n",
    "\n",
    "---------------\n",
    "* Stack Operations O(1) time:\n",
    "    * empty (): checks if the stack is empty\n",
    "    * size (): returns the number of elements in the stack\n",
    "    * top () / peek (): shows the top element without removing it\n",
    "    * push(a): adds an element a at the top\n",
    "    * pop (): removes the top element\n",
    "\n",
    "---------------\n",
    "* Implementations using:\n",
    "    * List (pop(), append())\n",
    "    * LinkedList\n",
    "    * Queues\n",
    "    * from collections import deque (double-ended queue)\n",
    "        * deque is optimized for fast appends and pops\n",
    "    * from queue import LifoQueue (thread-safe)"
   ]
  },
  {
   "cell_type": "markdown",
   "id": "4a023eaa-17b0-4035-8cb3-5cb88f5f65fd",
   "metadata": {
    "jp-MarkdownHeadingCollapsed": true
   },
   "source": [
    "## Implementations"
   ]
  },
  {
   "cell_type": "markdown",
   "id": "4257f82a-2f0f-48e6-bd79-1d8cab72c94e",
   "metadata": {
    "jp-MarkdownHeadingCollapsed": true
   },
   "source": [
    "### List"
   ]
  },
  {
   "cell_type": "code",
   "execution_count": null,
   "id": "a5d0ecf7-63d3-4f59-8761-5dbd52630afe",
   "metadata": {},
   "outputs": [],
   "source": [
    "class StackList:\n",
    "    \"\"\"\n",
    "    Stack using Python's built-in list\n",
    "    PROS: Simple, efficient, most commonly used\n",
    "    CONS: Resizing overhead when capacity exceeded\n",
    "    \"\"\"\n",
    "    def __init__(self):\n",
    "        self.items = []\n",
    "    \n",
    "    def push(self, item):\n",
    "        \"\"\"Add item to top - O(1) amortized\"\"\"\n",
    "        self.items.append(item)\n",
    "    \n",
    "    def pop(self):\n",
    "        \"\"\"Remove and return top item - O(1)\"\"\"\n",
    "        if self.is_empty():\n",
    "            raise IndexError(\"Pop from empty stack\")\n",
    "        return self.items.pop()\n",
    "    \n",
    "    def peek(self):\n",
    "        \"\"\"View top item - O(1)\"\"\"\n",
    "        if self.is_empty():\n",
    "            raise IndexError(\"Peek from empty stack\")\n",
    "        return self.items[-1]\n",
    "    \n",
    "    def is_empty(self):\n",
    "        \"\"\"Check if empty - O(1)\"\"\"\n",
    "        return len(self.items) == 0\n",
    "    \n",
    "    def size(self):\n",
    "        \"\"\"Get size - O(1)\"\"\"\n",
    "        return len(self.items)\n",
    "    \n",
    "    def __str__(self):\n",
    "        return f\"Stack({self.items})\""
   ]
  },
  {
   "cell_type": "markdown",
   "id": "dba901ae-2e54-430a-ac34-23f2c8664b58",
   "metadata": {
    "jp-MarkdownHeadingCollapsed": true
   },
   "source": [
    "### Lisked List"
   ]
  },
  {
   "cell_type": "code",
   "execution_count": null,
   "id": "f8ae73e6-d2aa-4f32-ae81-171d63ee61a2",
   "metadata": {},
   "outputs": [],
   "source": [
    "class Node:\n",
    "    \"\"\"Node for linked list\"\"\"\n",
    "    def __init__(self, data):\n",
    "        self.data = data\n",
    "        self.next = None\n",
    "\n",
    "class StackLinkedList:\n",
    "    \"\"\"\n",
    "    Stack using singly linked list\n",
    "    PROS: No resizing needed, true O(1) push/pop\n",
    "    CONS: Extra memory for pointers, not cache-friendly\n",
    "    \"\"\"\n",
    "    def __init__(self):\n",
    "        self.head = None\n",
    "        self._size = 0\n",
    "    \n",
    "    def push(self, item):\n",
    "        \"\"\"Add to front of linked list - O(1)\"\"\"\n",
    "        new_node = Node(item)\n",
    "        new_node.next = self.head\n",
    "        self.head = new_node\n",
    "        self._size += 1\n",
    "    \n",
    "    def pop(self):\n",
    "        \"\"\"Remove from front - O(1)\"\"\"\n",
    "        if self.is_empty():\n",
    "            raise IndexError(\"Pop from empty stack\")\n",
    "        data = self.head.data\n",
    "        self.head = self.head.next\n",
    "        self._size -= 1\n",
    "        return data\n",
    "    \n",
    "    def peek(self):\n",
    "        if self.is_empty():\n",
    "            raise IndexError(\"Peek from empty stack\")\n",
    "        return self.head.data\n",
    "    \n",
    "    def is_empty(self):\n",
    "        return self.head is None\n",
    "    \n",
    "    def size(self):\n",
    "        return self._size\n",
    "    \n",
    "    def __str__(self):\n",
    "        items = []\n",
    "        current = self.head\n",
    "        while current:\n",
    "            items.append(current.data)\n",
    "            current = current.next\n",
    "        return f\"Stack({items})\""
   ]
  },
  {
   "cell_type": "markdown",
   "id": "e3f88d81-b848-476f-90cd-0c7d7ee071cd",
   "metadata": {
    "jp-MarkdownHeadingCollapsed": true
   },
   "source": [
    "### Collections.deque"
   ]
  },
  {
   "cell_type": "code",
   "execution_count": null,
   "id": "06491695-0fc4-485c-8f6a-1e343ee74725",
   "metadata": {},
   "outputs": [],
   "source": [
    "from collections import deque\n",
    "\n",
    "class StackDeque:\n",
    "    \"\"\"\n",
    "    Stack using deque (double-ended queue)\n",
    "    PROS: Better performance than list, O(1) operations guaranteed\n",
    "    CONS: Slightly more memory overhead\n",
    "    \"\"\"\n",
    "    def __init__(self):\n",
    "        self.items = deque()\n",
    "    \n",
    "    def push(self, item):\n",
    "        \"\"\"O(1) guaranteed\"\"\"\n",
    "        self.items.append(item)\n",
    "    \n",
    "    def pop(self):\n",
    "        \"\"\"O(1) guaranteed\"\"\"\n",
    "        if self.is_empty():\n",
    "            raise IndexError(\"Pop from empty stack\")\n",
    "        return self.items.pop()\n",
    "    \n",
    "    def peek(self):\n",
    "        if self.is_empty():\n",
    "            raise IndexError(\"Peek from empty stack\")\n",
    "        return self.items[-1]\n",
    "    \n",
    "    def is_empty(self):\n",
    "        return len(self.items) == 0\n",
    "    \n",
    "    def size(self):\n",
    "        return len(self.items)"
   ]
  },
  {
   "cell_type": "markdown",
   "id": "fce2e5ef-48d1-40f2-bf9b-dc3a304eeff2",
   "metadata": {
    "jp-MarkdownHeadingCollapsed": true
   },
   "source": [
    "### Fixed Length Array"
   ]
  },
  {
   "cell_type": "code",
   "execution_count": null,
   "id": "9487e950-1763-47d5-a7e4-8a56dd6e596e",
   "metadata": {},
   "outputs": [],
   "source": [
    "class StackArray:\n",
    "    \"\"\"\n",
    "    Stack with fixed capacity using array\n",
    "    PROS: Memory-efficient, predictable performance\n",
    "    CONS: Fixed size, overflow possible\n",
    "    \"\"\"\n",
    "    def __init__(self, capacity=100):\n",
    "        self.capacity = capacity\n",
    "        self.items = [None] * capacity\n",
    "        self.top = -1\n",
    "    \n",
    "    def push(self, item):\n",
    "        \"\"\"O(1)\"\"\"\n",
    "        if self.is_full():\n",
    "            raise OverflowError(\"Stack overflow\")\n",
    "        self.top += 1\n",
    "        self.items[self.top] = item\n",
    "    \n",
    "    def pop(self):\n",
    "        \"\"\"O(1)\"\"\"\n",
    "        if self.is_empty():\n",
    "            raise IndexError(\"Pop from empty stack\")\n",
    "        item = self.items[self.top]\n",
    "        self.items[self.top] = None\n",
    "        self.top -= 1\n",
    "        return item\n",
    "    \n",
    "    def peek(self):\n",
    "        if self.is_empty():\n",
    "            raise IndexError(\"Peek from empty stack\")\n",
    "        return self.items[self.top]\n",
    "    \n",
    "    def is_empty(self):\n",
    "        return self.top == -1\n",
    "    \n",
    "    def is_full(self):\n",
    "        return self.top == self.capacity - 1\n",
    "    \n",
    "    def size(self):\n",
    "        return self.top + 1"
   ]
  },
  {
   "cell_type": "markdown",
   "id": "8f88fb70-e181-4daf-b9ad-c3a66b96b400",
   "metadata": {
    "jp-MarkdownHeadingCollapsed": true
   },
   "source": [
    "# Queue"
   ]
  },
  {
   "cell_type": "markdown",
   "id": "f296c9a4-3f81-4fa9-bb7b-78795c5f4601",
   "metadata": {},
   "source": [
    "* a linear data structure that follows FIFO (First In First Out) Principle, so the first element inserted is the first to be popped out.\n",
    "* It is used as a buffer in computer systems where we have speed mismatch between two devices that communicate with each other\n",
    "* Queue is also used in Operating System algorithms like CPU Scheduling and Memory Management\n",
    "* also in many standard algorithms like Breadth First Search of Graph, Level Order Traversal of a Tree\n",
    "* basic terminologies:\n",
    "    * Front - position of the entry in a queue ready to be served, that is, the first entry that will be removed from the queue\n",
    "    * Rear - position of the last entry in the queue, that is, the one most recently added\n",
    "    * Size - refers to the current number of elements in the queue\n",
    "    * Capacity - refers to the maximum number of elements the queue can hold\n",
    "\n",
    "--------------------\n",
    "* Types of Queues:\n",
    "    * Simple Queue\n",
    "    * Double Ended Queue (Deque)\n",
    "      * Input Restricted Queue\n",
    "      * Output Restricted Queue\n",
    "    * Priority Queue\n",
    "      * Ascending Priority Queue\n",
    "      * Descending Priority Queue\n",
    "\n",
    "--------------------\n",
    "* Queue Operations:\n",
    "    * Enqueue\n",
    "    * Dequeue\n",
    "    * Peek/Front\n",
    "    * Size\n",
    "    * isEmpty\n",
    "    * isFull"
   ]
  },
  {
   "cell_type": "markdown",
   "id": "3d30df4f-14db-4fb0-a30e-2d9038e580b5",
   "metadata": {
    "jp-MarkdownHeadingCollapsed": true
   },
   "source": [
    "## Implementations"
   ]
  },
  {
   "cell_type": "markdown",
   "id": "09ce76c1-5f52-4f1d-b459-a2d749e86a08",
   "metadata": {
    "jp-MarkdownHeadingCollapsed": true
   },
   "source": [
    "### List"
   ]
  },
  {
   "cell_type": "code",
   "execution_count": null,
   "id": "99d0d472-4a62-40ff-a78d-aedf664cb2f9",
   "metadata": {},
   "outputs": [],
   "source": [
    "class QueueList:\n",
    "    \"\"\"\n",
    "    Queue using Python list\n",
    "    PROS: Simple, easy to understand\n",
    "    CONS: O(n) dequeue due to list shifting\n",
    "    AVOID: Use deque instead\n",
    "    \"\"\"\n",
    "    def __init__(self):\n",
    "        self.items = []\n",
    "    \n",
    "    def enqueue(self, item):\n",
    "        \"\"\"O(1)\"\"\"\n",
    "        self.items.append(item)\n",
    "    \n",
    "    def dequeue(self):\n",
    "        \"\"\"O(n) - shifts all elements\"\"\"\n",
    "        if self.is_empty():\n",
    "            raise IndexError(\"Dequeue from empty queue\")\n",
    "        return self.items.pop(0)\n",
    "    \n",
    "    def front(self):\n",
    "        if self.is_empty():\n",
    "            raise IndexError(\"Front from empty queue\")\n",
    "        return self.items[0]\n",
    "    \n",
    "    def rear(self):\n",
    "        if self.is_empty():\n",
    "            raise IndexError(\"Rear from empty queue\")\n",
    "        return self.items[-1]\n",
    "    \n",
    "    def is_empty(self):\n",
    "        return len(self.items) == 0\n",
    "    \n",
    "    def size(self):\n",
    "        return len(self.items)\n",
    "    \n",
    "    def __str__(self):\n",
    "        return f\"Queue({self.items})\""
   ]
  },
  {
   "cell_type": "markdown",
   "id": "d243177c-5953-4304-add7-da8fde184988",
   "metadata": {
    "jp-MarkdownHeadingCollapsed": true
   },
   "source": [
    "### Linked List"
   ]
  },
  {
   "cell_type": "code",
   "execution_count": null,
   "id": "a37279af-72a4-4c7e-b08a-edcc24b37f84",
   "metadata": {},
   "outputs": [],
   "source": [
    "class Node:\n",
    "    \"\"\"Node for linked list\"\"\"\n",
    "    def __init__(self, data):\n",
    "        self.data = data\n",
    "        self.next = None\n",
    "\n",
    "class QueueLinkedList:\n",
    "    \"\"\"\n",
    "    Queue using singly linked list\n",
    "    PROS: True O(1) operations, no resizing\n",
    "    CONS: Extra memory for pointers\n",
    "    GOOD FOR: Understanding data structures, interviews\n",
    "    \"\"\"\n",
    "    def __init__(self):\n",
    "        self.front_node = None\n",
    "        self.rear_node = None\n",
    "        self._size = 0\n",
    "    \n",
    "    def enqueue(self, item):\n",
    "        \"\"\"Add to rear - O(1)\"\"\"\n",
    "        new_node = Node(item)\n",
    "        \n",
    "        if self.rear_node is None:\n",
    "            self.front_node = self.rear_node = new_node\n",
    "        else:\n",
    "            self.rear_node.next = new_node\n",
    "            self.rear_node = new_node\n",
    "        \n",
    "        self._size += 1\n",
    "    \n",
    "    def dequeue(self):\n",
    "        \"\"\"Remove from front - O(1)\"\"\"\n",
    "        if self.is_empty():\n",
    "            raise IndexError(\"Dequeue from empty queue\")\n",
    "        \n",
    "        data = self.front_node.data\n",
    "        self.front_node = self.front_node.next\n",
    "        \n",
    "        if self.front_node is None:\n",
    "            self.rear_node = None\n",
    "        \n",
    "        self._size -= 1\n",
    "        return data\n",
    "    \n",
    "    def front(self):\n",
    "        if self.is_empty():\n",
    "            raise IndexError(\"Front from empty queue\")\n",
    "        return self.front_node.data\n",
    "    \n",
    "    def rear(self):\n",
    "        if self.is_empty():\n",
    "            raise IndexError(\"Rear from empty queue\")\n",
    "        return self.rear_node.data\n",
    "    \n",
    "    def is_empty(self):\n",
    "        return self.front_node is None\n",
    "    \n",
    "    def size(self):\n",
    "        return self._size\n",
    "    \n",
    "    def __str__(self):\n",
    "        items = []\n",
    "        current = self.front_node\n",
    "        while current:\n",
    "            items.append(current.data)\n",
    "            current = current.next\n",
    "        return f\"Queue({items})\""
   ]
  },
  {
   "cell_type": "markdown",
   "id": "5aac261b-7465-4181-a986-ac0a6629ee5d",
   "metadata": {
    "jp-MarkdownHeadingCollapsed": true
   },
   "source": [
    "### From Collections, Deque"
   ]
  },
  {
   "cell_type": "code",
   "execution_count": null,
   "id": "aa4a3e59-0857-4972-91b5-e2adaf23a95f",
   "metadata": {},
   "outputs": [],
   "source": [
    "from collections import deque\n",
    "\n",
    "class QueueDeque:\n",
    "    \"\"\"\n",
    "    Queue using deque (double-ended queue)\n",
    "    PROS: O(1) enqueue and dequeue, most efficient\n",
    "    CONS: None - this is the recommended way\n",
    "    BEST FOR: 95% of use cases\n",
    "    \"\"\"\n",
    "    def __init__(self):\n",
    "        self.items = deque()\n",
    "    \n",
    "    def enqueue(self, item):\n",
    "        \"\"\"Add to rear - O(1)\"\"\"\n",
    "        self.items.append(item)\n",
    "    \n",
    "    def dequeue(self):\n",
    "        \"\"\"Remove from front - O(1)\"\"\"\n",
    "        if self.is_empty():\n",
    "            raise IndexError(\"Dequeue from empty queue\")\n",
    "        return self.items.popleft()\n",
    "    \n",
    "    def front(self):\n",
    "        \"\"\"View front element - O(1)\"\"\"\n",
    "        if self.is_empty():\n",
    "            raise IndexError(\"Front from empty queue\")\n",
    "        return self.items[0]\n",
    "    \n",
    "    def rear(self):\n",
    "        \"\"\"View rear element - O(1)\"\"\"\n",
    "        if self.is_empty():\n",
    "            raise IndexError(\"Rear from empty queue\")\n",
    "        return self.items[-1]\n",
    "    \n",
    "    def is_empty(self):\n",
    "        \"\"\"Check if empty - O(1)\"\"\"\n",
    "        return len(self.items) == 0\n",
    "    \n",
    "    def size(self):\n",
    "        \"\"\"Get size - O(1)\"\"\"\n",
    "        return len(self.items)\n",
    "    \n",
    "    def __str__(self):\n",
    "        return f\"Queue({list(self.items)})\""
   ]
  },
  {
   "cell_type": "markdown",
   "id": "418a611d-1d80-4b4f-9eba-2e26ba6f25d5",
   "metadata": {
    "jp-MarkdownHeadingCollapsed": true
   },
   "source": [
    "### Circular Array"
   ]
  },
  {
   "cell_type": "code",
   "execution_count": null,
   "id": "9c681813-f5f8-472c-bbb6-8e9bafcf5af3",
   "metadata": {},
   "outputs": [],
   "source": [
    "class QueueCircularArray:\n",
    "    \"\"\"\n",
    "    Queue using circular array (ring buffer)\n",
    "    PROS: Memory efficient, O(1) operations\n",
    "    CONS: Fixed size (or needs resize logic)\n",
    "    BEST FOR: Embedded systems, fixed-size buffers\n",
    "    \"\"\"\n",
    "    def __init__(self, capacity=10):\n",
    "        self.capacity = capacity\n",
    "        self.items = [None] * capacity\n",
    "        self.front_idx = 0\n",
    "        self.rear_idx = -1\n",
    "        self._size = 0\n",
    "    \n",
    "    def enqueue(self, item):\n",
    "        \"\"\"O(1)\"\"\"\n",
    "        if self.is_full():\n",
    "            raise OverflowError(\"Queue overflow\")\n",
    "        \n",
    "        self.rear_idx = (self.rear_idx + 1) % self.capacity\n",
    "        self.items[self.rear_idx] = item\n",
    "        self._size += 1\n",
    "    \n",
    "    def dequeue(self):\n",
    "        \"\"\"O(1)\"\"\"\n",
    "        if self.is_empty():\n",
    "            raise IndexError(\"Dequeue from empty queue\")\n",
    "        \n",
    "        item = self.items[self.front_idx]\n",
    "        self.items[self.front_idx] = None\n",
    "        self.front_idx = (self.front_idx + 1) % self.capacity\n",
    "        self._size -= 1\n",
    "        return item\n",
    "    \n",
    "    def front(self):\n",
    "        if self.is_empty():\n",
    "            raise IndexError(\"Front from empty queue\")\n",
    "        return self.items[self.front_idx]\n",
    "    \n",
    "    def rear(self):\n",
    "        if self.is_empty():\n",
    "            raise IndexError(\"Rear from empty queue\")\n",
    "        return self.items[self.rear_idx]\n",
    "    \n",
    "    def is_empty(self):\n",
    "        return self._size == 0\n",
    "    \n",
    "    def is_full(self):\n",
    "        return self._size == self.capacity\n",
    "    \n",
    "    def size(self):\n",
    "        return self._size\n",
    "    \n",
    "    def __str__(self):\n",
    "        if self.is_empty():\n",
    "            return \"Queue([])\"\n",
    "        items = []\n",
    "        idx = self.front_idx\n",
    "        for _ in range(self._size):\n",
    "            items.append(self.items[idx])\n",
    "            idx = (idx + 1) % self.capacity\n",
    "        return f\"Queue({items})\""
   ]
  },
  {
   "cell_type": "markdown",
   "id": "fe083ec9-9d36-4df0-8169-7b5751556c83",
   "metadata": {
    "jp-MarkdownHeadingCollapsed": true
   },
   "source": [
    "# Dictionary"
   ]
  },
  {
   "cell_type": "markdown",
   "id": "8149e758-7326-4a01-b21f-9cc7fe7dd230",
   "metadata": {},
   "source": [
    "* a data structure that stores the value in key: value pairs.\n",
    "* Values in a dictionary can be of any data type and can be duplicated\n",
    "* Keys can't be repeated and must be immutable.\n",
    "* Keys are case sensitive\n",
    "* Duplicate keys are not allowed and any duplicate key will overwrite the previous value.\n",
    "* Internally uses hashing. Hence, operations like search, insert, delete can be performed in Constant Time.\n",
    "* From Python 3.7 Version onward, Python dictionary are Ordered."
   ]
  },
  {
   "cell_type": "code",
   "execution_count": null,
   "id": "fb4c2757-efc8-4ff0-97c4-79da7ce8407e",
   "metadata": {},
   "outputs": [],
   "source": [
    "d1 = {1: 'Geeks', 2: 'For', 3: 'Geeks'}\n",
    "print(d1)\n",
    "\n",
    "# create dictionary using dict() constructor\n",
    "d2 = dict(a = \"Geeks\", b = \"for\", c = \"Geeks\")\n",
    "print(d2)"
   ]
  },
  {
   "cell_type": "markdown",
   "id": "911fb0ac-332d-4f7b-929d-87f7c5af0fbc",
   "metadata": {
    "jp-MarkdownHeadingCollapsed": true
   },
   "source": [
    "# HashTable"
   ]
  },
  {
   "cell_type": "markdown",
   "id": "61a94585-8b7a-4955-a696-b32856693658",
   "metadata": {
    "jp-MarkdownHeadingCollapsed": true
   },
   "source": [
    "* Time Complexities:\n",
    "    * Insert: O(1) average, O(n) worst case\n",
    "    * Search: O(1) average, O(n) worst case\n",
    "    * Delete: O(1) average, O(n) worst case\n",
    "    * Resize: O(n) but amortized to O(1)"
   ]
  },
  {
   "cell_type": "markdown",
   "id": "56540fbc-8e01-459b-83f2-716f41a1ff64",
   "metadata": {},
   "source": [
    "## Implementations"
   ]
  },
  {
   "cell_type": "markdown",
   "id": "3af432b9-bc52-430a-8509-c1a972b443f2",
   "metadata": {
    "jp-MarkdownHeadingCollapsed": true
   },
   "source": [
    "### Simple"
   ]
  },
  {
   "cell_type": "code",
   "execution_count": null,
   "id": "c6da5b13-2ec2-4d1e-beab-5092edb3987c",
   "metadata": {},
   "outputs": [],
   "source": [
    "class HashTable:\n",
    "    def __init__(self, size=10):\n",
    "        self.size = size\n",
    "        self.table = [[] for _ in range(size)]  # list of buckets\n",
    "\n",
    "    def _hash(self, key):\n",
    "        \"\"\"Generate hash index for a given key\"\"\"\n",
    "        return hash(key) % self.size\n",
    "\n",
    "    def insert(self, key, value):\n",
    "        \"\"\"Insert or update a (key, value) pair\"\"\"\n",
    "        index = self._hash(key)\n",
    "        bucket = self.table[index]\n",
    "\n",
    "        # Update if key already exists\n",
    "        for i, (k, v) in enumerate(bucket):\n",
    "            if k == key:\n",
    "                bucket[i] = (key, value)\n",
    "                return\n",
    "        # Otherwise, insert new key\n",
    "        bucket.append((key, value))\n",
    "\n",
    "    def get(self, key):\n",
    "        \"\"\"Retrieve value by key\"\"\"\n",
    "        index = self._hash(key)\n",
    "        bucket = self.table[index]\n",
    "        for k, v in bucket:\n",
    "            if k == key:\n",
    "                return v\n",
    "        return None  # Key not found\n",
    "\n",
    "    def delete(self, key):\n",
    "        \"\"\"Remove key-value pair\"\"\"\n",
    "        index = self._hash(key)\n",
    "        bucket = self.table[index]\n",
    "        for i, (k, v) in enumerate(bucket):\n",
    "            if k == key:\n",
    "                del bucket[i]\n",
    "                return True\n",
    "        return False  # Key not found\n",
    "\n",
    "    def __str__(self):\n",
    "        \"\"\"Readable representation\"\"\"\n",
    "        return str(self.table)"
   ]
  },
  {
   "cell_type": "markdown",
   "id": "f193c8f9-f373-42f3-8c85-650ef8bc70fc",
   "metadata": {},
   "source": [
    "### With separate chaining for collision resolution"
   ]
  },
  {
   "cell_type": "code",
   "execution_count": null,
   "id": "ed81262e-7190-4458-bf2b-6e7b3e62f4c4",
   "metadata": {},
   "outputs": [],
   "source": [
    "class HashTable:\n",
    "    \"\"\"\n",
    "    Hash Table with separate chaining for collision resolution\n",
    "    \n",
    "    Key Features:\n",
    "    - Dynamic resizing when load factor > 0.7\n",
    "    - Separate chaining using linked lists\n",
    "    - O(1) average case for insert, search, delete\n",
    "    \"\"\"\n",
    "    def __init__(self, initial_capacity=10):\n",
    "        \"\"\"Initialize hash table with given capacity\"\"\"\n",
    "        self.capacity = initial_capacity\n",
    "        self.size = 0\n",
    "        self.buckets = [[] for _ in range(self.capacity)]\n",
    "        self.load_factor_threshold = 0.7\n",
    "\n",
    "    def _hash(self, key):\n",
    "        \"\"\"\n",
    "        Hash function to convert key to bucket index\n",
    "        Uses Python's built-in hash() and modulo\n",
    "        \"\"\"\n",
    "        return hash(key) % self.capacity\n",
    "\n",
    "    def _get_load_factor(self):\n",
    "        \"\"\"Calculate current load factor\"\"\"\n",
    "        return self.size / self.capacity\n",
    "\n",
    "    def _resize(self):\n",
    "        \"\"\"\n",
    "        Resize hash table when load factor exceeds threshold\n",
    "        Doubles the capacity and rehashes all existing keys\n",
    "        \"\"\"\n",
    "        old_buckets = self.buckets\n",
    "        self.capacity *= 2\n",
    "        self.buckets = [[] for _ in range(self.capacity)]\n",
    "        self.size = 0\n",
    "\n",
    "        # Rehash all existing key-value pairs\n",
    "        for bucket in old_buckets:\n",
    "            for key, value in bucket:\n",
    "                self.insert(key, value)\n",
    "\n",
    "    def insert(self, key, value):\n",
    "        \"\"\"\n",
    "        Insert or update a key-value pair\n",
    "        Time: O(1) average, O(n) worst case\n",
    "        \"\"\"\n",
    "        # Check if resize is needed\n",
    "        if self._get_load_factor() > self.load_factor_threshold:\n",
    "            self._resize()\n",
    "\n",
    "        index = hash(key)\n",
    "        bucket = self.bucket(index)\n",
    "\n",
    "        for i, (k, v) in enumerate(bucket):\n",
    "            if k == key:\n",
    "                bucket[i] = (key, value)\n",
    "                return\n",
    "        # Key doesn't exist, add new entry\n",
    "        bucket.append((key, value))\n",
    "        self.size += 1\n",
    "\n",
    "    def get(self, key):\n",
    "        \"\"\"\n",
    "        Retrieve value by key\n",
    "        Time: O(1) average, O(n) worst case\n",
    "        Returns None if key not found\n",
    "        \"\"\"\n",
    "        index = _hash(key)\n",
    "        bucket = self.buckets[index]\n",
    "\n",
    "        for k,v in bucket:\n",
    "            if k == key:\n",
    "                return v\n",
    "\n",
    "        return None\n",
    "\n",
    "    def delete(self, key):\n",
    "        \"\"\"\n",
    "        Delete a key-value pair\n",
    "        Time: O(1) average, O(n) worst case\n",
    "        Returns True if deleted, False if key not found\n",
    "        \"\"\"\n",
    "        index = self._hash(key)\n",
    "        bucket = self.buckets[index]\n",
    "        \n",
    "        for i, (k, v) in enumerate(bucket):\n",
    "            if k == key:\n",
    "                del bucket[i]\n",
    "                self.size -= 1\n",
    "                return True\n",
    "        \n",
    "        return False\n",
    "\n",
    "    def contains(self, key):\n",
    "        \"\"\"Check if key exists in hash table\"\"\"\n",
    "        return self.get(key) is not None\n",
    "    \n",
    "    def keys(self):\n",
    "        \"\"\"Return list of all keys\"\"\"\n",
    "        all_keys = []\n",
    "        for bucket in self.buckets:\n",
    "            for key, value in bucket:\n",
    "                all_keys.append(key)\n",
    "        return all_keys\n",
    "    \n",
    "    def values(self):\n",
    "        \"\"\"Return list of all values\"\"\"\n",
    "        all_values = []\n",
    "        for bucket in self.buckets:\n",
    "            for key, value in bucket:\n",
    "                all_values.append(value)\n",
    "        return all_values\n",
    "    \n",
    "    def items(self):\n",
    "        \"\"\"Return list of all (key, value) tuples\"\"\"\n",
    "        all_items = []\n",
    "        for bucket in self.buckets:\n",
    "            for key, value in bucket:\n",
    "                all_items.append((key, value))\n",
    "        return all_items\n",
    "    \n",
    "    def clear(self):\n",
    "        \"\"\"Remove all items from hash table\"\"\"\n",
    "        self.buckets = [[] for _ in range(self.capacity)]\n",
    "        self.size = 0\n",
    "    \n",
    "    def __len__(self):\n",
    "        \"\"\"Return number of key-value pairs\"\"\"\n",
    "        return self.size\n",
    "    \n",
    "    def __contains__(self, key):\n",
    "        \"\"\"Support 'in' operator\"\"\"\n",
    "        return self.contains(key)\n",
    "    \n",
    "    def __getitem__(self, key):\n",
    "        \"\"\"Support bracket notation: ht[key]\"\"\"\n",
    "        value = self.get(key)\n",
    "        if value is None:\n",
    "            raise KeyError(f\"Key '{key}' not found\")\n",
    "        return value\n",
    "    \n",
    "    def __setitem__(self, key, value):\n",
    "        \"\"\"Support bracket notation: ht[key] = value\"\"\"\n",
    "        self.insert(key, value)\n",
    "    \n",
    "    def __delitem__(self, key):\n",
    "        \"\"\"Support del ht[key]\"\"\"\n",
    "        if not self.delete(key):\n",
    "            raise KeyError(f\"Key '{key}' not found\")\n",
    "    \n",
    "    def __str__(self):\n",
    "        \"\"\"String representation\"\"\"\n",
    "        items = [f\"'{k}': {v}\" for k, v in self.items()]\n",
    "        return \"{\" + \", \".join(items) + \"}\"\n",
    "    \n",
    "    def __repr__(self):\n",
    "        \"\"\"Representation for debugging\"\"\"\n",
    "        return f\"HashTable(size={self.size}, capacity={self.capacity})\"\n"
   ]
  },
  {
   "cell_type": "markdown",
   "id": "df27be8e-f562-4a6f-8403-5cef2ad21152",
   "metadata": {
    "jp-MarkdownHeadingCollapsed": true
   },
   "source": [
    "# Trees"
   ]
  },
  {
   "cell_type": "markdown",
   "id": "aa4c08d5-ace4-4407-883a-5c16eccec2db",
   "metadata": {},
   "source": [
    "* a non-linear data structure in which\n",
    "    * a collection of elements known as nodes\n",
    "    * are connected to each other via edges such that\n",
    "    * there exists exactly one path between any two nodes.\n",
    "* data in a tree is organized across multiple levels, forming a hierarchical structure\n",
    "\n",
    "* Types of Tree\n",
    "    * Binary Tree : Every node has at most two children\n",
    "        * Full Binary Tree – every node has either 0 or 2 children.\n",
    "        * Complete Binary Tree – all levels are fully filled except possibly the last, which is filled from left to right.\n",
    "        * Balanced Binary Tree – height difference between left and right subtrees of every node is minimal.\n",
    "    * Ternary Tree : Every node has at most three children\n",
    "    * N-ary Tree : Every node has at most n children.\n",
    "\n",
    "* Operations:\n",
    "    * Create\n",
    "    * Insert\n",
    "    * Search\n",
    "        * Depth-First-Search Traversal\n",
    "        * Breadth-First-Search Traversal\n",
    "\n",
    "* Properties:\n",
    "    * Number of Edges: A tree with N nodes will always have N - 1 edges\n",
    "    * Depth of a Node: the length of the path from the root to that node\n",
    "    * Height of the Tree: the length of the longest path from the root to any leaf node\n",
    "    * Degree of a Node: the number of subtrees attached to it (i.e., the number of children it has)."
   ]
  },
  {
   "cell_type": "code",
   "execution_count": null,
   "id": "1b0f6592-b64c-4898-9e16-8a4e073dd05d",
   "metadata": {},
   "outputs": [],
   "source": []
  },
  {
   "cell_type": "markdown",
   "id": "67ac3f2c-11a0-47c8-936a-6b3bed71a0e3",
   "metadata": {
    "jp-MarkdownHeadingCollapsed": true
   },
   "source": [
    "# Graph"
   ]
  },
  {
   "cell_type": "code",
   "execution_count": null,
   "id": "66c63fe8-ef2b-4b47-a6c3-0797255d9c5c",
   "metadata": {},
   "outputs": [],
   "source": []
  },
  {
   "cell_type": "code",
   "execution_count": null,
   "id": "5604dd4e-725e-4b96-99ca-c4b4a2e621cc",
   "metadata": {},
   "outputs": [],
   "source": []
  },
  {
   "cell_type": "markdown",
   "id": "8ea52b2d-42db-4b88-b9a3-690d797bde73",
   "metadata": {},
   "source": [
    "# Temp"
   ]
  },
  {
   "cell_type": "code",
   "execution_count": null,
   "id": "f369e42d-2879-49b3-adfe-89bb80a6146f",
   "metadata": {},
   "outputs": [],
   "source": []
  }
 ],
 "metadata": {
  "kernelspec": {
   "display_name": "Python 3 (ipykernel)",
   "language": "python",
   "name": "python3"
  },
  "language_info": {
   "codemirror_mode": {
    "name": "ipython",
    "version": 3
   },
   "file_extension": ".py",
   "mimetype": "text/x-python",
   "name": "python",
   "nbconvert_exporter": "python",
   "pygments_lexer": "ipython3",
   "version": "3.13.5"
  }
 },
 "nbformat": 4,
 "nbformat_minor": 5
}
