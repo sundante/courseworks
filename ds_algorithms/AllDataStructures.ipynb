{
 "cells": [
  {
   "cell_type": "markdown",
   "id": "75d5a9ef-0ca7-49c1-8f2d-2da846c67461",
   "metadata": {
    "jp-MarkdownHeadingCollapsed": true
   },
   "source": [
    "# References\n",
    "* <a href=\"https://www.geeksforgeeks.org/dsa/dsa-tutorial-learn-data-structures-and-algorithms\"> DSA Tutorial - Learn Data Structures and Algorithms</a>\n",
    "* <a href=\"https://algomaster.io/practice/dsa-patterns\"> AlgoMaster - Master DSA Patterns</a>"
   ]
  },
  {
   "cell_type": "markdown",
   "id": "42f94eae-f8da-4e67-9e22-38f4ab81a35b",
   "metadata": {
    "jp-MarkdownHeadingCollapsed": true
   },
   "source": [
    "# Python Data Types"
   ]
  },
  {
   "cell_type": "markdown",
   "id": "94b28188-6222-4bcd-ac00-86cf92b8e1c3",
   "metadata": {
    "jp-MarkdownHeadingCollapsed": true
   },
   "source": [
    "> Numeric Types:\n",
    "* int\n",
    "* float\n",
    "* complex\n",
    "\n",
    "> Boolean Type:\n",
    "* bool\n",
    "\n",
    "> Iterator Types:\n",
    "\n",
    "> Sequence Types:\n",
    "* list\n",
    "* tuple\n",
    "* range\n",
    "\n",
    "> Set Types:\n",
    "* set\n",
    "* frozenset\n",
    "\n",
    "> Mapping Types:\n",
    "* dictionary\n",
    "\n",
    "> Collections:\n",
    "* ChainMap\n",
    "* Counter\n",
    "* OrderedDict\n",
    "* UserDict\n",
    "* UserList\n",
    "* UserString\n",
    "* defaultdict\n",
    "* deque\n",
    "* namedtuple"
   ]
  },
  {
   "cell_type": "markdown",
   "id": "5dbbb3ed-0706-49ec-ac2f-bd60b1c822db",
   "metadata": {
    "jp-MarkdownHeadingCollapsed": true
   },
   "source": [
    "# Iterable"
   ]
  },
  {
   "cell_type": "markdown",
   "id": "d65411dc-bf1d-4942-8b8c-5ee4525ed540",
   "metadata": {},
   "source": [
    "* An object capable of returning its members one at a time.\n",
    "* all sequence types (such as list, str, and tuple)\n",
    "* some non-sequence types like dict, file objects\n",
    "* objects of any classes you define with an __iter__() method or with a __getitem__() method that implements sequence semantics.\n",
    "* Iterables can be used in a for loop and in many other places where a sequence is needed (zip(), map(), …)."
   ]
  },
  {
   "cell_type": "markdown",
   "id": "575e1094-4ea7-4535-a09e-8baee954a687",
   "metadata": {
    "jp-MarkdownHeadingCollapsed": true
   },
   "source": [
    "# Iterator"
   ]
  },
  {
   "cell_type": "markdown",
   "id": "ad415a9b-1416-42e9-b00b-f69b34866e4b",
   "metadata": {},
   "source": [
    "* An object representing a stream of data.\n",
    "* a concept of iteration over containers.\n",
    "* This is implemented using two distinct methods; these are used to allow user-defined classes to support iteration.\n",
    "* Iterators are required to have an __iter__() method that returns the iterator object itself\n",
    "* Repeated calls to the iterator’s __next__() method (or passing it to the built-in function next()) return successive items in the stream."
   ]
  },
  {
   "cell_type": "markdown",
   "id": "2f6d2661-7e41-4cce-84e3-14c3e25821b2",
   "metadata": {},
   "source": [
    "# Hashable"
   ]
  },
  {
   "cell_type": "markdown",
   "id": "7d92dc8b-83ca-4d30-87d3-05a8a402b2cf",
   "metadata": {},
   "source": [
    "* An object is hashable if it has a hash value which never changes during its lifetime (it needs a __hash__() method), and can be compared to other objects (it needs an __eq__() method).\n",
    "* Hashable objects which compare equal must have the same hash value.\n",
    "* Hashability makes an object usable as a dictionary key and a set member, because these data structures use the hash value internally.\n",
    "* Most of Python’s immutable built-in objects are hashable;\n",
    "* Objects which are instances of user-defined classes are hashable by default.\n",
    "* They all compare unequal (except with themselves), and their hash value is derived from their id().\n",
    "---------------------\n",
    "* Load Factor Monitoring: The dict keeps track of its \"load factor,\" which is the ratio of the number of items stored to the total capacity of the hash table.\n",
    "* Expansion (Growth): When the load factor exceeds a certain threshold (e.g., around 2/3 or 70%), the dict determines that it's becoming too full and collisions are likely to increase, degrading performance. To address this, it initiates a resizing operation: A new, larger array (typically double the current size) is allocated. All existing key-value pairs from the old table are rehashed using the new table's size and inserted into the new table. This is necessary because the hash index for a given key depends on the table's size. The old table is then deallocated.\n",
    "* Contraction (Shrinking): While less frequent, some dict implementations might also shrink the hash table if many items are deleted and the load factor falls significantly below a certain threshold. This helps to conserve memory."
   ]
  },
  {
   "cell_type": "markdown",
   "id": "4e8e038f-9a53-46a0-b7c7-1ea1b15dec9a",
   "metadata": {
    "jp-MarkdownHeadingCollapsed": true
   },
   "source": [
    "# String"
   ]
  },
  {
   "cell_type": "code",
   "execution_count": null,
   "id": "5015f89e-647e-4bbd-8b3d-b2ab7d31cf1d",
   "metadata": {},
   "outputs": [],
   "source": []
  },
  {
   "cell_type": "markdown",
   "id": "70ed7263-5158-48fb-b9ab-814415628b25",
   "metadata": {},
   "source": [
    "# List"
   ]
  },
  {
   "cell_type": "markdown",
   "id": "ddea65e3-0fea-47d0-906f-5089ad8a4f93",
   "metadata": {},
   "source": [
    "* a list doesn’t store actual values directly. Instead, it stores references (pointers) to objects in memory.\n",
    "* Can contain duplicate items\n",
    "* Mutable: items can be modified, replaced, or removed\n",
    "* Ordered: maintains the order in which items are added\n",
    "* Index-based: items are accessed using their position (starting from 0)\n",
    "* Can store mixed data types (integers, strings, booleans, even other lists)\n",
    "\n",
    "---------------\n",
    "* remove(): Removes the first occurrence of an element.\n",
    "* pop(): Removes the element at a specific index\n",
    "\n",
    "\n",
    "----------------\n",
    "* List comprehension is a concise way to create lists using a single line of code."
   ]
  },
  {
   "cell_type": "code",
   "execution_count": 2,
   "id": "862d925d-4444-49ba-9102-d9af018d2f30",
   "metadata": {},
   "outputs": [],
   "source": [
    "a = [1, 2, 3, 4, 5] # List of integers\n",
    "b = ['apple', 'banana', 'cherry'] # List of strings\n",
    "c = [1, 'hello', 3.14, True] # Mixed data types"
   ]
  },
  {
   "cell_type": "code",
   "execution_count": 4,
   "id": "9d69d8c6-f20c-4f7e-9a4d-8216a28d04cb",
   "metadata": {},
   "outputs": [
    {
     "name": "stdout",
     "output_type": "stream",
     "text": [
      "['cherry', 'banana', 'apple']\n",
      "['cherry', 'banana', 'apple']\n"
     ]
    }
   ],
   "source": [
    "# Reverse a List\n",
    "print(b[::-1])\n",
    "print(list(reversed(b)))"
   ]
  },
  {
   "cell_type": "markdown",
   "id": "6c142755-636b-4668-9f99-8ebd8e21bf98",
   "metadata": {},
   "source": [
    "# Nested Lists"
   ]
  },
  {
   "cell_type": "code",
   "execution_count": null,
   "id": "1e9183a8-3231-4e84-b551-d0af17501163",
   "metadata": {},
   "outputs": [],
   "source": []
  },
  {
   "cell_type": "markdown",
   "id": "2b8d7121-1f70-46d0-b3a3-bdccdc57059e",
   "metadata": {
    "jp-MarkdownHeadingCollapsed": true
   },
   "source": [
    "# Tuple "
   ]
  },
  {
   "cell_type": "markdown",
   "id": "fdd67270-71d7-4d55-8ff5-60abeb0b353b",
   "metadata": {},
   "source": [
    "* main characteristics of tuples are being:\n",
    "    *  ordered\n",
    "    *  heterogeneous\n",
    "    *  immutable."
   ]
  },
  {
   "cell_type": "code",
   "execution_count": null,
   "id": "e0252237-01d9-4728-a477-c3bc6e8350e8",
   "metadata": {},
   "outputs": [],
   "source": [
    "tup = ('Geeks', 'For')\n",
    "print(tup)\n",
    "li = [1, 2, 4, 5, 6]\n",
    "print(tuple(li))\n",
    "tup = tuple('Geeks')\n",
    "print(tup)\n",
    "tup = (5, 'Welcome', 7, 'Geeks')\n",
    "print(tup)"
   ]
  },
  {
   "cell_type": "code",
   "execution_count": null,
   "id": "11d4dd49-85bb-4e4b-bd26-3ec2005aade4",
   "metadata": {},
   "outputs": [],
   "source": [
    "# Tupple Unpacking with *\n",
    "tup = (1, 2, 3, 4, 5)\n",
    "a, *b, c = tup\n",
    "print(a) \n",
    "print(b) \n",
    "print(c)"
   ]
  },
  {
   "cell_type": "markdown",
   "id": "1dedf88d-bddf-4aa4-af97-a71d045ac8f6",
   "metadata": {
    "jp-MarkdownHeadingCollapsed": true
   },
   "source": [
    "# Set"
   ]
  },
  {
   "cell_type": "markdown",
   "id": "fcd545a4-178a-4aa1-b54c-cf400790d8da",
   "metadata": {},
   "source": [
    "* collection of multiple items having different\n",
    "    * mutable\n",
    "    * unindexed\n",
    "    * do not contain duplicates\n",
    "* Can store None values.\n",
    "* Implemented using hash tables internally.\n",
    "* Do not implement interfaces like Serializable or Cloneable.\n",
    "* Python sets are not inherently thread-safe\n",
    "\n",
    "---------------\n",
    "* remove() method removes a specified element from the set\n",
    "* pop() method removes and returns an arbitrary element from the set"
   ]
  },
  {
   "cell_type": "code",
   "execution_count": null,
   "id": "e049ef8a-e719-471a-aa9b-db2b1eda8875",
   "metadata": {},
   "outputs": [],
   "source": [
    "set1 = {1, 2, 3, 4}\n",
    "print(set1)\n",
    "\n",
    "set1 = set(\"GeeksForGeeks\")\n",
    "print(set1)\n",
    "\n",
    "# Creating a Set with the use of a List\n",
    "set1 = set([\"Geeks\", \"For\", \"Geeks\"])\n",
    "print(set1)"
   ]
  },
  {
   "cell_type": "markdown",
   "id": "ee74519e-b356-45c2-9b64-5da9a1401cb7",
   "metadata": {
    "jp-MarkdownHeadingCollapsed": true
   },
   "source": [
    "# Frozen Set"
   ]
  },
  {
   "cell_type": "markdown",
   "id": "6be5cba6-ae15-4ccb-9d64-20bc79b9168b",
   "metadata": {},
   "source": [
    "* a built-in data type that is similar to a set but with one key difference that is immutability\n",
    "* cannot contain duplicate elements"
   ]
  },
  {
   "cell_type": "code",
   "execution_count": null,
   "id": "cc387343-8173-4597-a4e5-cdf18e009303",
   "metadata": {},
   "outputs": [],
   "source": []
  },
  {
   "cell_type": "markdown",
   "id": "efc8064f-e8f7-4cae-94dd-2d25210ed946",
   "metadata": {
    "jp-MarkdownHeadingCollapsed": true
   },
   "source": [
    "# Stacks"
   ]
  },
  {
   "cell_type": "markdown",
   "id": "24a12ce8-b599-4d06-91fd-47773c1c5a79",
   "metadata": {},
   "source": [
    "* is a linear data structure that follows the Last-In/First-Out (LIFO) principle, also known as First-In/Last-Out (FILO)\n",
    "* the last element added is the first one to be removed\n",
    "* both insertion and deletion happen at the same end, which is called the top of the stack.\n",
    "* Python does not have a built-in stack type\n",
    "\n",
    "---------------\n",
    "* Stack Operations O(1) time:\n",
    "    * empty (): checks if the stack is empty\n",
    "    * size (): returns the number of elements in the stack\n",
    "    * top () / peek (): shows the top element without removing it\n",
    "    * push(a): adds an element a at the top\n",
    "    * pop (): removes the top element\n",
    "\n",
    "---------------\n",
    "* Implementations using:\n",
    "    * List (pop(), append())\n",
    "    * LinkedList\n",
    "    * Queues\n",
    "    * from collections import deque (double-ended queue)\n",
    "        * deque is optimized for fast appends and pops\n",
    "    * from queue import LifoQueue (thread-safe)"
   ]
  },
  {
   "cell_type": "markdown",
   "id": "4a023eaa-17b0-4035-8cb3-5cb88f5f65fd",
   "metadata": {
    "jp-MarkdownHeadingCollapsed": true
   },
   "source": [
    "## Implementations"
   ]
  },
  {
   "cell_type": "markdown",
   "id": "4257f82a-2f0f-48e6-bd79-1d8cab72c94e",
   "metadata": {
    "jp-MarkdownHeadingCollapsed": true
   },
   "source": [
    "### List"
   ]
  },
  {
   "cell_type": "code",
   "execution_count": null,
   "id": "a5d0ecf7-63d3-4f59-8761-5dbd52630afe",
   "metadata": {},
   "outputs": [],
   "source": [
    "class StackList:\n",
    "    \"\"\"\n",
    "    Stack using Python's built-in list\n",
    "    PROS: Simple, efficient, most commonly used\n",
    "    CONS: Resizing overhead when capacity exceeded\n",
    "    \"\"\"\n",
    "    def __init__(self):\n",
    "        self.items = []\n",
    "    \n",
    "    def push(self, item):\n",
    "        \"\"\"Add item to top - O(1) amortized\"\"\"\n",
    "        self.items.append(item)\n",
    "    \n",
    "    def pop(self):\n",
    "        \"\"\"Remove and return top item - O(1)\"\"\"\n",
    "        if self.is_empty():\n",
    "            raise IndexError(\"Pop from empty stack\")\n",
    "        return self.items.pop()\n",
    "    \n",
    "    def peek(self):\n",
    "        \"\"\"View top item - O(1)\"\"\"\n",
    "        if self.is_empty():\n",
    "            raise IndexError(\"Peek from empty stack\")\n",
    "        return self.items[-1]\n",
    "    \n",
    "    def is_empty(self):\n",
    "        \"\"\"Check if empty - O(1)\"\"\"\n",
    "        return len(self.items) == 0\n",
    "    \n",
    "    def size(self):\n",
    "        \"\"\"Get size - O(1)\"\"\"\n",
    "        return len(self.items)\n",
    "    \n",
    "    def __str__(self):\n",
    "        return f\"Stack({self.items})\""
   ]
  },
  {
   "cell_type": "markdown",
   "id": "dba901ae-2e54-430a-ac34-23f2c8664b58",
   "metadata": {
    "jp-MarkdownHeadingCollapsed": true
   },
   "source": [
    "### Lisked List"
   ]
  },
  {
   "cell_type": "code",
   "execution_count": null,
   "id": "f8ae73e6-d2aa-4f32-ae81-171d63ee61a2",
   "metadata": {},
   "outputs": [],
   "source": [
    "class Node:\n",
    "    \"\"\"Node for linked list\"\"\"\n",
    "    def __init__(self, data):\n",
    "        self.data = data\n",
    "        self.next = None\n",
    "\n",
    "class StackLinkedList:\n",
    "    \"\"\"\n",
    "    Stack using singly linked list\n",
    "    PROS: No resizing needed, true O(1) push/pop\n",
    "    CONS: Extra memory for pointers, not cache-friendly\n",
    "    \"\"\"\n",
    "    def __init__(self):\n",
    "        self.head = None\n",
    "        self._size = 0\n",
    "    \n",
    "    def push(self, item):\n",
    "        \"\"\"Add to front of linked list - O(1)\"\"\"\n",
    "        new_node = Node(item)\n",
    "        new_node.next = self.head\n",
    "        self.head = new_node\n",
    "        self._size += 1\n",
    "    \n",
    "    def pop(self):\n",
    "        \"\"\"Remove from front - O(1)\"\"\"\n",
    "        if self.is_empty():\n",
    "            raise IndexError(\"Pop from empty stack\")\n",
    "        data = self.head.data\n",
    "        self.head = self.head.next\n",
    "        self._size -= 1\n",
    "        return data\n",
    "    \n",
    "    def peek(self):\n",
    "        if self.is_empty():\n",
    "            raise IndexError(\"Peek from empty stack\")\n",
    "        return self.head.data\n",
    "    \n",
    "    def is_empty(self):\n",
    "        return self.head is None\n",
    "    \n",
    "    def size(self):\n",
    "        return self._size\n",
    "    \n",
    "    def __str__(self):\n",
    "        items = []\n",
    "        current = self.head\n",
    "        while current:\n",
    "            items.append(current.data)\n",
    "            current = current.next\n",
    "        return f\"Stack({items})\""
   ]
  },
  {
   "cell_type": "markdown",
   "id": "e3f88d81-b848-476f-90cd-0c7d7ee071cd",
   "metadata": {
    "jp-MarkdownHeadingCollapsed": true
   },
   "source": [
    "### Collections.deque"
   ]
  },
  {
   "cell_type": "code",
   "execution_count": null,
   "id": "06491695-0fc4-485c-8f6a-1e343ee74725",
   "metadata": {},
   "outputs": [],
   "source": [
    "from collections import deque\n",
    "\n",
    "class StackDeque:\n",
    "    \"\"\"\n",
    "    Stack using deque (double-ended queue)\n",
    "    PROS: Better performance than list, O(1) operations guaranteed\n",
    "    CONS: Slightly more memory overhead\n",
    "    \"\"\"\n",
    "    def __init__(self):\n",
    "        self.items = deque()\n",
    "    \n",
    "    def push(self, item):\n",
    "        \"\"\"O(1) guaranteed\"\"\"\n",
    "        self.items.append(item)\n",
    "    \n",
    "    def pop(self):\n",
    "        \"\"\"O(1) guaranteed\"\"\"\n",
    "        if self.is_empty():\n",
    "            raise IndexError(\"Pop from empty stack\")\n",
    "        return self.items.pop()\n",
    "    \n",
    "    def peek(self):\n",
    "        if self.is_empty():\n",
    "            raise IndexError(\"Peek from empty stack\")\n",
    "        return self.items[-1]\n",
    "    \n",
    "    def is_empty(self):\n",
    "        return len(self.items) == 0\n",
    "    \n",
    "    def size(self):\n",
    "        return len(self.items)"
   ]
  },
  {
   "cell_type": "markdown",
   "id": "fce2e5ef-48d1-40f2-bf9b-dc3a304eeff2",
   "metadata": {
    "jp-MarkdownHeadingCollapsed": true
   },
   "source": [
    "### Fixed Length Array"
   ]
  },
  {
   "cell_type": "code",
   "execution_count": null,
   "id": "9487e950-1763-47d5-a7e4-8a56dd6e596e",
   "metadata": {},
   "outputs": [],
   "source": [
    "class StackArray:\n",
    "    \"\"\"\n",
    "    Stack with fixed capacity using array\n",
    "    PROS: Memory-efficient, predictable performance\n",
    "    CONS: Fixed size, overflow possible\n",
    "    \"\"\"\n",
    "    def __init__(self, capacity=100):\n",
    "        self.capacity = capacity\n",
    "        self.items = [None] * capacity\n",
    "        self.top = -1\n",
    "    \n",
    "    def push(self, item):\n",
    "        \"\"\"O(1)\"\"\"\n",
    "        if self.is_full():\n",
    "            raise OverflowError(\"Stack overflow\")\n",
    "        self.top += 1\n",
    "        self.items[self.top] = item\n",
    "    \n",
    "    def pop(self):\n",
    "        \"\"\"O(1)\"\"\"\n",
    "        if self.is_empty():\n",
    "            raise IndexError(\"Pop from empty stack\")\n",
    "        item = self.items[self.top]\n",
    "        self.items[self.top] = None\n",
    "        self.top -= 1\n",
    "        return item\n",
    "    \n",
    "    def peek(self):\n",
    "        if self.is_empty():\n",
    "            raise IndexError(\"Peek from empty stack\")\n",
    "        return self.items[self.top]\n",
    "    \n",
    "    def is_empty(self):\n",
    "        return self.top == -1\n",
    "    \n",
    "    def is_full(self):\n",
    "        return self.top == self.capacity - 1\n",
    "    \n",
    "    def size(self):\n",
    "        return self.top + 1"
   ]
  },
  {
   "cell_type": "markdown",
   "id": "8f88fb70-e181-4daf-b9ad-c3a66b96b400",
   "metadata": {},
   "source": [
    "# Queue"
   ]
  },
  {
   "cell_type": "code",
   "execution_count": null,
   "id": "b931d00c-e74f-46d3-8375-525222f4a941",
   "metadata": {},
   "outputs": [],
   "source": []
  },
  {
   "cell_type": "code",
   "execution_count": null,
   "id": "c9b9e1f0-44b7-490a-8f6d-0cefaa65e9b6",
   "metadata": {},
   "outputs": [],
   "source": []
  },
  {
   "cell_type": "markdown",
   "id": "fe083ec9-9d36-4df0-8169-7b5751556c83",
   "metadata": {
    "jp-MarkdownHeadingCollapsed": true
   },
   "source": [
    "# Dictionary"
   ]
  },
  {
   "cell_type": "markdown",
   "id": "8149e758-7326-4a01-b21f-9cc7fe7dd230",
   "metadata": {},
   "source": [
    "* a data structure that stores the value in key: value pairs.\n",
    "* Values in a dictionary can be of any data type and can be duplicated\n",
    "* Keys can't be repeated and must be immutable.\n",
    "* Keys are case sensitive\n",
    "* Duplicate keys are not allowed and any duplicate key will overwrite the previous value.\n",
    "* Internally uses hashing. Hence, operations like search, insert, delete can be performed in Constant Time.\n",
    "* From Python 3.7 Version onward, Python dictionary are Ordered."
   ]
  },
  {
   "cell_type": "code",
   "execution_count": null,
   "id": "fb4c2757-efc8-4ff0-97c4-79da7ce8407e",
   "metadata": {},
   "outputs": [],
   "source": [
    "d1 = {1: 'Geeks', 2: 'For', 3: 'Geeks'}\n",
    "print(d1)\n",
    "\n",
    "# create dictionary using dict() constructor\n",
    "d2 = dict(a = \"Geeks\", b = \"for\", c = \"Geeks\")\n",
    "print(d2)"
   ]
  },
  {
   "cell_type": "markdown",
   "id": "911fb0ac-332d-4f7b-929d-87f7c5af0fbc",
   "metadata": {
    "jp-MarkdownHeadingCollapsed": true
   },
   "source": [
    "# HashTable"
   ]
  },
  {
   "cell_type": "markdown",
   "id": "61a94585-8b7a-4955-a696-b32856693658",
   "metadata": {
    "jp-MarkdownHeadingCollapsed": true
   },
   "source": [
    "## Time Complexities:\n",
    "* Insert: O(1) average, O(n) worst case\n",
    "* Search: O(1) average, O(n) worst case\n",
    "* Delete: O(1) average, O(n) worst case\n",
    "* Resize: O(n) but amortized to O(1)"
   ]
  },
  {
   "cell_type": "markdown",
   "id": "3af432b9-bc52-430a-8509-c1a972b443f2",
   "metadata": {
    "jp-MarkdownHeadingCollapsed": true
   },
   "source": [
    "## Simple"
   ]
  },
  {
   "cell_type": "code",
   "execution_count": null,
   "id": "c6da5b13-2ec2-4d1e-beab-5092edb3987c",
   "metadata": {},
   "outputs": [],
   "source": [
    "class HashTable:\n",
    "    def __init__(self, size=10):\n",
    "        self.size = size\n",
    "        self.table = [[] for _ in range(size)]  # list of buckets\n",
    "\n",
    "    def _hash(self, key):\n",
    "        \"\"\"Generate hash index for a given key\"\"\"\n",
    "        return hash(key) % self.size\n",
    "\n",
    "    def insert(self, key, value):\n",
    "        \"\"\"Insert or update a (key, value) pair\"\"\"\n",
    "        index = self._hash(key)\n",
    "        bucket = self.table[index]\n",
    "\n",
    "        # Update if key already exists\n",
    "        for i, (k, v) in enumerate(bucket):\n",
    "            if k == key:\n",
    "                bucket[i] = (key, value)\n",
    "                return\n",
    "        # Otherwise, insert new key\n",
    "        bucket.append((key, value))\n",
    "\n",
    "    def get(self, key):\n",
    "        \"\"\"Retrieve value by key\"\"\"\n",
    "        index = self._hash(key)\n",
    "        bucket = self.table[index]\n",
    "        for k, v in bucket:\n",
    "            if k == key:\n",
    "                return v\n",
    "        return None  # Key not found\n",
    "\n",
    "    def delete(self, key):\n",
    "        \"\"\"Remove key-value pair\"\"\"\n",
    "        index = self._hash(key)\n",
    "        bucket = self.table[index]\n",
    "        for i, (k, v) in enumerate(bucket):\n",
    "            if k == key:\n",
    "                del bucket[i]\n",
    "                return True\n",
    "        return False  # Key not found\n",
    "\n",
    "    def __str__(self):\n",
    "        \"\"\"Readable representation\"\"\"\n",
    "        return str(self.table)"
   ]
  },
  {
   "cell_type": "markdown",
   "id": "f193c8f9-f373-42f3-8c85-650ef8bc70fc",
   "metadata": {
    "jp-MarkdownHeadingCollapsed": true
   },
   "source": [
    "## Implementation - Advanced"
   ]
  },
  {
   "cell_type": "code",
   "execution_count": null,
   "id": "ed81262e-7190-4458-bf2b-6e7b3e62f4c4",
   "metadata": {},
   "outputs": [],
   "source": [
    "class HashTable:\n",
    "    \"\"\"\n",
    "    Hash Table with separate chaining for collision resolution\n",
    "    \n",
    "    Key Features:\n",
    "    - Dynamic resizing when load factor > 0.7\n",
    "    - Separate chaining using linked lists\n",
    "    - O(1) average case for insert, search, delete\n",
    "    \"\"\"\n",
    "    def __init__(self, initial_capacity=10):\n",
    "        \"\"\"Initialize hash table with given capacity\"\"\"\n",
    "        self.capacity = initial_capacity\n",
    "        self.size = 0\n",
    "        self.buckets = [[] for _ in range(self.capacity)]\n",
    "        self.load_factor_threshold = 0.7\n",
    "\n",
    "    def _hash(self, key):\n",
    "        \"\"\"\n",
    "        Hash function to convert key to bucket index\n",
    "        Uses Python's built-in hash() and modulo\n",
    "        \"\"\"\n",
    "        return hash(key) % self.capacity\n",
    "\n",
    "    def _get_load_factor(self):\n",
    "        \"\"\"Calculate current load factor\"\"\"\n",
    "        return self.size / self.capacity\n",
    "\n",
    "    def _resize(self):\n",
    "        \"\"\"\n",
    "        Resize hash table when load factor exceeds threshold\n",
    "        Doubles the capacity and rehashes all existing keys\n",
    "        \"\"\"\n",
    "        old_buckets = self.buckets\n",
    "        self.capacity *= 2\n",
    "        self.buckets = [[] for _ in range(self.capacity)]\n",
    "        self.size = 0\n",
    "\n",
    "        # Rehash all existing key-value pairs\n",
    "        for bucket in old_buckets:\n",
    "            for key, value in bucket:\n",
    "                self.insert(key, value)\n",
    "\n",
    "    def insert(self, key, value):\n",
    "        \"\"\"\n",
    "        Insert or update a key-value pair\n",
    "        Time: O(1) average, O(n) worst case\n",
    "        \"\"\"\n",
    "        # Check if resize is needed\n",
    "        if self._get_load_factor() > self.load_factor_threshold:\n",
    "            self._resize()\n",
    "\n",
    "        index = hash(key)\n",
    "        bucket = self.bucket(index)\n",
    "\n",
    "        for i, (k, v) in enumerate(bucket):\n",
    "            if k == key:\n",
    "                bucket[i] = (key, value)\n",
    "                return\n",
    "        # Key doesn't exist, add new entry\n",
    "        bucket.append((key, value))\n",
    "        self.size += 1\n",
    "\n",
    "    def get(self, key):\n",
    "        \"\"\"\n",
    "        Retrieve value by key\n",
    "        Time: O(1) average, O(n) worst case\n",
    "        Returns None if key not found\n",
    "        \"\"\"\n",
    "        index = _hash(key)\n",
    "        bucket = self.buckets[index]\n",
    "\n",
    "        for k,v in bucket:\n",
    "            if k == key:\n",
    "                return v\n",
    "\n",
    "        return None\n",
    "\n",
    "    def delete(self, key):\n",
    "        \"\"\"\n",
    "        Delete a key-value pair\n",
    "        Time: O(1) average, O(n) worst case\n",
    "        Returns True if deleted, False if key not found\n",
    "        \"\"\"\n",
    "        index = self._hash(key)\n",
    "        bucket = self.buckets[index]\n",
    "        \n",
    "        for i, (k, v) in enumerate(bucket):\n",
    "            if k == key:\n",
    "                del bucket[i]\n",
    "                self.size -= 1\n",
    "                return True\n",
    "        \n",
    "        return False\n",
    "\n",
    "    def contains(self, key):\n",
    "        \"\"\"Check if key exists in hash table\"\"\"\n",
    "        return self.get(key) is not None\n",
    "    \n",
    "    def keys(self):\n",
    "        \"\"\"Return list of all keys\"\"\"\n",
    "        all_keys = []\n",
    "        for bucket in self.buckets:\n",
    "            for key, value in bucket:\n",
    "                all_keys.append(key)\n",
    "        return all_keys\n",
    "    \n",
    "    def values(self):\n",
    "        \"\"\"Return list of all values\"\"\"\n",
    "        all_values = []\n",
    "        for bucket in self.buckets:\n",
    "            for key, value in bucket:\n",
    "                all_values.append(value)\n",
    "        return all_values\n",
    "    \n",
    "    def items(self):\n",
    "        \"\"\"Return list of all (key, value) tuples\"\"\"\n",
    "        all_items = []\n",
    "        for bucket in self.buckets:\n",
    "            for key, value in bucket:\n",
    "                all_items.append((key, value))\n",
    "        return all_items\n",
    "    \n",
    "    def clear(self):\n",
    "        \"\"\"Remove all items from hash table\"\"\"\n",
    "        self.buckets = [[] for _ in range(self.capacity)]\n",
    "        self.size = 0\n",
    "    \n",
    "    def __len__(self):\n",
    "        \"\"\"Return number of key-value pairs\"\"\"\n",
    "        return self.size\n",
    "    \n",
    "    def __contains__(self, key):\n",
    "        \"\"\"Support 'in' operator\"\"\"\n",
    "        return self.contains(key)\n",
    "    \n",
    "    def __getitem__(self, key):\n",
    "        \"\"\"Support bracket notation: ht[key]\"\"\"\n",
    "        value = self.get(key)\n",
    "        if value is None:\n",
    "            raise KeyError(f\"Key '{key}' not found\")\n",
    "        return value\n",
    "    \n",
    "    def __setitem__(self, key, value):\n",
    "        \"\"\"Support bracket notation: ht[key] = value\"\"\"\n",
    "        self.insert(key, value)\n",
    "    \n",
    "    def __delitem__(self, key):\n",
    "        \"\"\"Support del ht[key]\"\"\"\n",
    "        if not self.delete(key):\n",
    "            raise KeyError(f\"Key '{key}' not found\")\n",
    "    \n",
    "    def __str__(self):\n",
    "        \"\"\"String representation\"\"\"\n",
    "        items = [f\"'{k}': {v}\" for k, v in self.items()]\n",
    "        return \"{\" + \", \".join(items) + \"}\"\n",
    "    \n",
    "    def __repr__(self):\n",
    "        \"\"\"Representation for debugging\"\"\"\n",
    "        return f\"HashTable(size={self.size}, capacity={self.capacity})\"\n"
   ]
  },
  {
   "cell_type": "markdown",
   "id": "8ea52b2d-42db-4b88-b9a3-690d797bde73",
   "metadata": {},
   "source": [
    "# Temp"
   ]
  },
  {
   "cell_type": "code",
   "execution_count": null,
   "id": "f369e42d-2879-49b3-adfe-89bb80a6146f",
   "metadata": {},
   "outputs": [],
   "source": []
  }
 ],
 "metadata": {
  "kernelspec": {
   "display_name": "Python 3 (ipykernel)",
   "language": "python",
   "name": "python3"
  },
  "language_info": {
   "codemirror_mode": {
    "name": "ipython",
    "version": 3
   },
   "file_extension": ".py",
   "mimetype": "text/x-python",
   "name": "python",
   "nbconvert_exporter": "python",
   "pygments_lexer": "ipython3",
   "version": "3.13.5"
  }
 },
 "nbformat": 4,
 "nbformat_minor": 5
}
