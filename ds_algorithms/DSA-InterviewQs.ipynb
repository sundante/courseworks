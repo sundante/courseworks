{
 "cells": [
  {
   "cell_type": "markdown",
   "id": "95d7eef8-3b66-47c8-9904-e5ec5c96ba57",
   "metadata": {},
   "source": [
    "# References"
   ]
  },
  {
   "cell_type": "markdown",
   "id": "4ea0b430-bebc-45d2-951c-dedd6ddaebaf",
   "metadata": {},
   "source": [
    "| **Source** | **Topic** |\n",
    "|----------------|-----------|\n",
    "| **Medium** | <a href=\"https://medium.com/@prashant558908/amazon-most-frequent-ds-algo-questions-in-2025-arranged-by-data-structures-5b876b1d9d05\">Amazon Most Frequent DS & Algo Questions in 2025</a> | "
   ]
  },
  {
   "cell_type": "code",
   "execution_count": null,
   "id": "04e853a5-8214-445d-98da-54af8c20785a",
   "metadata": {},
   "outputs": [],
   "source": []
  }
 ],
 "metadata": {
  "kernelspec": {
   "display_name": "Python 3 (ipykernel)",
   "language": "python",
   "name": "python3"
  },
  "language_info": {
   "codemirror_mode": {
    "name": "ipython",
    "version": 3
   },
   "file_extension": ".py",
   "mimetype": "text/x-python",
   "name": "python",
   "nbconvert_exporter": "python",
   "pygments_lexer": "ipython3",
   "version": "3.13.5"
  }
 },
 "nbformat": 4,
 "nbformat_minor": 5
}
