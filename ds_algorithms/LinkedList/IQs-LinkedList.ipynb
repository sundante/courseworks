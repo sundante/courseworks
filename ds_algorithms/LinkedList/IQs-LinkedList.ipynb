{
 "cells": [
  {
   "cell_type": "markdown",
   "id": "cb887ef4-b131-4b24-82a2-906c67277566",
   "metadata": {},
   "source": [
    "## TOC:\n",
    "* [Find the Middle of a LinkedList](#first-bullet)\n",
    "* [](#-bullet)"
   ]
  },
  {
   "cell_type": "markdown",
   "id": "64fc80e6-dab2-456f-9b41-214d255b79ab",
   "metadata": {},
   "source": [
    "# Find the Middle of a LinkedList <a class=\"anchor\" id=\"first-bullet\"></a>"
   ]
  },
  {
   "cell_type": "code",
   "execution_count": null,
   "id": "8b3307b2-72ee-4744-a381-aa7ee5e0f186",
   "metadata": {},
   "outputs": [],
   "source": []
  },
  {
   "cell_type": "code",
   "execution_count": null,
   "id": "a9aa36d0-1cf7-4f45-9370-84934af1f48b",
   "metadata": {},
   "outputs": [],
   "source": []
  }
 ],
 "metadata": {
  "kernelspec": {
   "display_name": "Python 3 (ipykernel)",
   "language": "python",
   "name": "python3"
  },
  "language_info": {
   "codemirror_mode": {
    "name": "ipython",
    "version": 3
   },
   "file_extension": ".py",
   "mimetype": "text/x-python",
   "name": "python",
   "nbconvert_exporter": "python",
   "pygments_lexer": "ipython3",
   "version": "3.13.5"
  }
 },
 "nbformat": 4,
 "nbformat_minor": 5
}
