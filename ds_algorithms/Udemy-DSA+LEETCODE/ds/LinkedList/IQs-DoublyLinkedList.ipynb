{
 "cells": [
  {
   "cell_type": "markdown",
   "id": "f14ceeb3-dadd-41ca-9018-aab3258fa960",
   "metadata": {},
   "source": [
    "# Check for Palindrome"
   ]
  },
  {
   "cell_type": "code",
   "execution_count": 1,
   "id": "0f0f77eb-bae2-45bb-b9f2-241147f1edd0",
   "metadata": {},
   "outputs": [],
   "source": [
    "def is_palindrome(self):\n",
    "    if self.length <= 1:\n",
    "        return True\n",
    "    forward_node = self.head\n",
    "    backward_node = self.tail\n",
    "    for i in range(self.length // 2):\n",
    "        if forward_node.value != backward_node.value:\n",
    "            return False\n",
    "        forward_node = forward_node.next\n",
    "        backward_node = backward_node.prev\n",
    "    return True"
   ]
  },
  {
   "cell_type": "markdown",
   "id": "1b0c3de4-3bde-4a5c-acaf-97c6dec6491c",
   "metadata": {},
   "source": [
    "# Reverse a DoublyLinkedList"
   ]
  },
  {
   "cell_type": "code",
   "execution_count": 2,
   "id": "851d52da-d9ce-4359-9cde-a9474b54ee1a",
   "metadata": {},
   "outputs": [],
   "source": [
    "def reverse(self):\n",
    "    if not self.head or not self.head.next:\n",
    "        return\n",
    "    \n",
    "    current = self.head\n",
    "    temp = None\n",
    "    \n",
    "    while current:\n",
    "        temp = current.prev\n",
    "        current.prev = current.next\n",
    "        current.next = temp\n",
    "        current = current.prev\n",
    "    \n",
    "    temp = self.head\n",
    "    self.head = self.tail\n",
    "    self.tail = temp"
   ]
  },
  {
   "cell_type": "code",
   "execution_count": 3,
   "id": "0659779c-387c-405d-b51d-8aa3ce54be70",
   "metadata": {},
   "outputs": [],
   "source": [
    "def reverse(self):\n",
    "    temp = self.head\n",
    "    while temp is not None:\n",
    "        # swap the prev and next pointers of node points to\n",
    "        temp.prev, temp.next = temp.next, temp.prev\n",
    "        \n",
    "        # move to the next node\n",
    "        temp = temp.prev\n",
    "        \n",
    "    # swap the head and tail pointers\n",
    "    self.head, self.tail = self.tail, self.head"
   ]
  },
  {
   "cell_type": "markdown",
   "id": "b6ca6229-06e4-4c85-9306-dcd071437482",
   "metadata": {},
   "source": [
    "# Partition List"
   ]
  },
  {
   "cell_type": "code",
   "execution_count": null,
   "id": "718a0475-461d-44c9-b35f-400aa245e5f2",
   "metadata": {},
   "outputs": [],
   "source": []
  }
 ],
 "metadata": {
  "kernelspec": {
   "display_name": "Python 3 (ipykernel)",
   "language": "python",
   "name": "python3"
  },
  "language_info": {
   "codemirror_mode": {
    "name": "ipython",
    "version": 3
   },
   "file_extension": ".py",
   "mimetype": "text/x-python",
   "name": "python",
   "nbconvert_exporter": "python",
   "pygments_lexer": "ipython3",
   "version": "3.13.5"
  }
 },
 "nbformat": 4,
 "nbformat_minor": 5
}
