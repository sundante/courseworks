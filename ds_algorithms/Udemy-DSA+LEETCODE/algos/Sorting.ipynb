{
 "cells": [
  {
   "cell_type": "markdown",
   "id": "2400fa13-ab0c-42ae-aa1d-80c728b200a4",
   "metadata": {},
   "source": [
    "# Basic Sorts:\n",
    "* Bubble Sort\n",
    "* Selection Sort\n",
    "* Insertion Sort\n",
    "\n",
    "\n",
    "# Additional Sorts:\n",
    "* Merge Sort"
   ]
  },
  {
   "cell_type": "markdown",
   "id": "f99eaef3-b75f-47a2-9130-2de61fa7fe6d",
   "metadata": {},
   "source": [
    "# Bubble Sort\n",
    "* Sorts in ascending order\n",
    "* Each iteration pushes largest to the end (bubbled up)\n",
    "* O(log n)"
   ]
  },
  {
   "cell_type": "code",
   "execution_count": 1,
   "id": "2dfd052b-139a-4758-af72-6990472ec773",
   "metadata": {},
   "outputs": [],
   "source": [
    "def bubble_sort(my_list):\n",
    "    for i in range(len(my_list)-1, 0, -1):\n",
    "        for j in range(i):\n",
    "            if my_list[j] > my_list[j+1]:\n",
    "                my_list[j], my_list[j+1] = my_list[j+1], my_list[j]\n",
    "\n",
    "    return my_list"
   ]
  },
  {
   "cell_type": "markdown",
   "id": "fa2f209c-49b7-4c1e-888f-aae750e327d1",
   "metadata": {},
   "source": [
    "# Selection Sort\n",
    "* first finds the min index\n",
    "* swap values between current and min index"
   ]
  },
  {
   "cell_type": "code",
   "execution_count": 16,
   "id": "5957db92-6643-4570-a7e6-c83e403e2391",
   "metadata": {},
   "outputs": [],
   "source": [
    "def selection_sort(my_list):\n",
    "    for i in range(len(my_list)-1):\n",
    "        min_index = i\n",
    "        for j in range(i+1, len(my_list)):\n",
    "            if my_list[min_index] > my_list[j]:\n",
    "                min_index = j\n",
    "        if i != min_index:\n",
    "            my_list[min_index], my_list[i] = my_list[i], my_list[min_index]\n",
    "    return my_list"
   ]
  },
  {
   "cell_type": "markdown",
   "id": "1cb13c45-331e-401f-a6f9-43eba551fe61",
   "metadata": {},
   "source": [
    "# Insertion Sort\n",
    "* Starts with second item\n",
    "* compares with previous and replaces if less"
   ]
  },
  {
   "cell_type": "code",
   "execution_count": 18,
   "id": "eee3f9ea-9672-4e8a-9d62-f99bc72b14a0",
   "metadata": {},
   "outputs": [],
   "source": [
    "def insertion_sort(my_list):\n",
    "    for i in range(1, len(my_list)):\n",
    "        temp = my_list[i]\n",
    "        j = i-1\n",
    "        while temp < my_list[j] and j > -1:\n",
    "            my_list[j+1] = my_list[j]\n",
    "            my_list[j] = temp\n",
    "            j -= 1\n",
    "    return my_list"
   ]
  },
  {
   "cell_type": "markdown",
   "id": "43c8fa61-d78f-4c4d-938a-43ca2574fbbe",
   "metadata": {},
   "source": [
    "# Merge Sort\n",
    "* breaks the list into half iteratively\n",
    "* reversely merge them back into complete list\n",
    "* uses recursion"
   ]
  },
  {
   "cell_type": "code",
   "execution_count": 19,
   "id": "deb99217-b07a-4131-a2b6-07a08bd3f21b",
   "metadata": {},
   "outputs": [],
   "source": [
    "def merge(list1, list2):\n",
    "    combined = []\n",
    "    i = 0\n",
    "    j = 0\n",
    "    while i<len(list1) and j<len(list2):\n",
    "        if list1[i] < list2[j]:\n",
    "            combined.append(list1[i])\n",
    "            i += 1\n",
    "        else:\n",
    "            combined.append(list2[j])\n",
    "            j += 1\n",
    "    while i < len(list1):\n",
    "        combined.append(list1[i])\n",
    "        i += 1\n",
    "    while j < len(list2):\n",
    "        combined.append(list2[j])\n",
    "        j += 1\n",
    "    return combined"
   ]
  },
  {
   "cell_type": "code",
   "execution_count": 20,
   "id": "8a2097c1-e53c-4b5e-a87a-6830e5992293",
   "metadata": {},
   "outputs": [],
   "source": [
    "def merge_sort(my_list):\n",
    "    if len(my_list) == 1:\n",
    "        return my_list\n",
    "    mid_index = int(len(my_list)/2)\n",
    "    left = merge_sort(my_list[:mid_index])\n",
    "    right = merge_sort(my_list[mid_index:])\n",
    "    \n",
    "    return merge(left, right)"
   ]
  },
  {
   "cell_type": "markdown",
   "id": "74fddab9-62ea-44a6-be77-3e6d99fecaf9",
   "metadata": {},
   "source": [
    "# Quick Sort\n",
    "* "
   ]
  }
 ],
 "metadata": {
  "kernelspec": {
   "display_name": "Python 3 (ipykernel)",
   "language": "python",
   "name": "python3"
  },
  "language_info": {
   "codemirror_mode": {
    "name": "ipython",
    "version": 3
   },
   "file_extension": ".py",
   "mimetype": "text/x-python",
   "name": "python",
   "nbconvert_exporter": "python",
   "pygments_lexer": "ipython3",
   "version": "3.13.5"
  }
 },
 "nbformat": 4,
 "nbformat_minor": 5
}
